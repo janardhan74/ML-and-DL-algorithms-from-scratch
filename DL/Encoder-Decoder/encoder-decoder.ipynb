{
 "cells": [
  {
   "cell_type": "markdown",
   "id": "206dcceb",
   "metadata": {},
   "source": [
    "# Encoder - Decoder (seq2seq) from scratch in pytorch"
   ]
  },
  {
   "cell_type": "code",
   "execution_count": 1,
   "id": "03b2ac43",
   "metadata": {},
   "outputs": [],
   "source": [
    "import torch\n",
    "import pandas as pd\n",
    "\n",
    "from torch.utils.data import Dataset,DataLoader\n",
    "import random\n",
    "from dataclasses import dataclass\n",
    "import requests\n",
    "import gzip\n",
    "import shutil\n",
    "# from torchtext.utils import download_from_url,extract_archive"
   ]
  },
  {
   "cell_type": "code",
   "execution_count": 2,
   "id": "c7b06fd6",
   "metadata": {},
   "outputs": [],
   "source": [
    "def set_seed(seed:int = 42):\n",
    "    torch.manual_seed(seed)\n",
    "    torch.cuda.manual_seed(seed)"
   ]
  },
  {
   "cell_type": "code",
   "execution_count": 3,
   "id": "3f7397a6",
   "metadata": {},
   "outputs": [],
   "source": [
    "@dataclass\n",
    "class ModelArgs():\n",
    "    epochs = 500\n",
    "    batch_size = 32\n",
    "    no_of_neurons = 64\n",
    "    embedding_dim = 32\n",
    "    max_lr = 1e-4\n",
    "    ht_size = no_of_neurons\n",
    "    ct_size = ht_size\n",
    "    device = \"cuda\" if torch.cuda.is_available() else \"cpu\"\n",
    "    block_size = 32 # seq length\n",
    "    \n",
    "    no_of_lstm_layes = 4\n",
    "    de_vocab_size = None\n",
    "    en_vocab_size = None"
   ]
  },
  {
   "cell_type": "code",
   "execution_count": 4,
   "id": "61156ead",
   "metadata": {},
   "outputs": [
    {
     "name": "stdout",
     "output_type": "stream",
     "text": [
      "Attempt 1 failed: ('Connection aborted.', ConnectionResetError(10054, 'An existing connection was forcibly closed by the remote host', None, 10054, None))\n",
      "Downloaded: train.de.gz\n",
      "Downloaded: train.en.gz\n",
      "Downloaded: val.de.gz\n",
      "Downloaded: val.en.gz\n",
      "Downloaded: test_2016_flickr.de.gz\n",
      "Downloaded: test_2016_flickr.en.gz\n"
     ]
    }
   ],
   "source": [
    "base_url = \"https://github.com/multi30k/dataset/raw/refs/heads/master/data/task1/raw/\"\n",
    "\n",
    "train_url = (\"train.de.gz\",\"train.en.gz\")\n",
    "val_url = (\"val.de.gz\",\"val.en.gz\",)\n",
    "test_url = (\"test_2016_flickr.de.gz\",\"test_2016_flickr.en.gz\",)\n",
    "\n",
    "import requests\n",
    "from time import sleep\n",
    "\n",
    "def download_file(url, file_name, retries=3):\n",
    "    for attempt in range(retries):\n",
    "        try:\n",
    "            with requests.get(url, stream=True, timeout=10) as r:\n",
    "                r.raise_for_status()\n",
    "                with open(file_name, \"wb\") as f:\n",
    "                    for chunk in r.iter_content(chunk_size=8192):\n",
    "                        f.write(chunk)\n",
    "            print(f\"Downloaded: {file_name}\")\n",
    "            break\n",
    "        except (requests.exceptions.RequestException, ConnectionResetError) as e:\n",
    "            print(f\"Attempt {attempt + 1} failed: {e}\")\n",
    "            sleep(2)  # wait before retrying\n",
    "            if attempt == retries - 1:\n",
    "                print(f\"Failed to download {file_name} after {retries} attempts.\")\n",
    "\n",
    "        \n",
    "download_file(base_url+train_url[0],train_url[0])\n",
    "download_file(base_url+train_url[1],train_url[1])\n",
    "download_file(base_url+val_url[0],val_url[0])\n",
    "download_file(base_url+val_url[1],val_url[1])\n",
    "download_file(base_url+test_url[0],test_url[0])\n",
    "download_file(base_url+test_url[1],test_url[1])"
   ]
  },
  {
   "cell_type": "code",
   "execution_count": 5,
   "id": "9c48b159",
   "metadata": {},
   "outputs": [],
   "source": [
    "def extract_file(in_file,out_file):\n",
    "    with gzip.open(in_file,\"rb\") as f_in:\n",
    "        with open(out_file,\"wb\") as f_out:\n",
    "            shutil.copyfileobj(f_in,f_out)\n",
    "    \n",
    "    return out_file\n",
    "            \n",
    "    \n",
    "            \n",
    "\n",
    "train_paths = [extract_file(i,i[:-3]) for i in train_url]\n",
    "val_paths = [extract_file(i,i[:-3]) for i in val_url]\n",
    "test_paths = [extract_file(i,i[:-3]) for i in test_url]\n"
   ]
  },
  {
   "cell_type": "code",
   "execution_count": 6,
   "id": "c01ac9b8",
   "metadata": {},
   "outputs": [
    {
     "data": {
      "text/plain": [
       "(['train.de', 'train.en'],\n",
       " ['val.de', 'val.en'],\n",
       " ['test_2016_flickr.de', 'test_2016_flickr.en'])"
      ]
     },
     "execution_count": 6,
     "metadata": {},
     "output_type": "execute_result"
    }
   ],
   "source": [
    "train_paths,val_paths,test_paths"
   ]
  },
  {
   "cell_type": "code",
   "execution_count": 7,
   "id": "1bf4d557",
   "metadata": {},
   "outputs": [
    {
     "name": "stdout",
     "output_type": "stream",
     "text": [
      "Collecting de-core-news-sm==3.8.0\n",
      "  Downloading https://github.com/explosion/spacy-models/releases/download/de_core_news_sm-3.8.0/de_core_news_sm-3.8.0-py3-none-any.whl (14.6 MB)\n",
      "     ---------------------------------------- 0.0/14.6 MB ? eta -:--:--\n",
      "     - -------------------------------------- 0.5/14.6 MB 4.2 MB/s eta 0:00:04\n",
      "     ---- ----------------------------------- 1.6/14.6 MB 5.2 MB/s eta 0:00:03\n",
      "     ------ --------------------------------- 2.4/14.6 MB 4.6 MB/s eta 0:00:03\n",
      "     --------- ------------------------------ 3.4/14.6 MB 4.4 MB/s eta 0:00:03\n",
      "     ----------- ---------------------------- 4.2/14.6 MB 4.3 MB/s eta 0:00:03\n",
      "     ------------- -------------------------- 5.0/14.6 MB 4.2 MB/s eta 0:00:03\n",
      "     --------------- ------------------------ 5.8/14.6 MB 4.1 MB/s eta 0:00:03\n",
      "     ----------------- ---------------------- 6.6/14.6 MB 4.1 MB/s eta 0:00:02\n",
      "     -------------------- ------------------- 7.6/14.6 MB 4.1 MB/s eta 0:00:02\n",
      "     ---------------------- ----------------- 8.4/14.6 MB 4.1 MB/s eta 0:00:02\n",
      "     ------------------------- -------------- 9.2/14.6 MB 4.0 MB/s eta 0:00:02\n",
      "     --------------------------- ------------ 10.0/14.6 MB 4.0 MB/s eta 0:00:02\n",
      "     ------------------------------ --------- 11.0/14.6 MB 4.0 MB/s eta 0:00:01\n",
      "     -------------------------------- ------- 11.8/14.6 MB 4.0 MB/s eta 0:00:01\n",
      "     ---------------------------------- ----- 12.6/14.6 MB 4.0 MB/s eta 0:00:01\n",
      "     ------------------------------------ --- 13.4/14.6 MB 4.0 MB/s eta 0:00:01\n",
      "     -------------------------------------- - 14.2/14.6 MB 4.0 MB/s eta 0:00:01\n",
      "     ---------------------------------------- 14.6/14.6 MB 3.9 MB/s eta 0:00:00\n",
      "\u001b[38;5;2m✔ Download and installation successful\u001b[0m\n",
      "You can now load the package via spacy.load('de_core_news_sm')\n",
      "Collecting en-core-web-sm==3.8.0\n",
      "  Downloading https://github.com/explosion/spacy-models/releases/download/en_core_web_sm-3.8.0/en_core_web_sm-3.8.0-py3-none-any.whl (12.8 MB)\n",
      "     ---------------------------------------- 0.0/12.8 MB ? eta -:--:--\n",
      "     --- ------------------------------------ 1.0/12.8 MB 7.2 MB/s eta 0:00:02\n",
      "     ---- ----------------------------------- 1.3/12.8 MB 6.1 MB/s eta 0:00:02\n",
      "     ------- -------------------------------- 2.4/12.8 MB 4.6 MB/s eta 0:00:03\n",
      "     ------- -------------------------------- 2.4/12.8 MB 4.6 MB/s eta 0:00:03\n",
      "     ------------- -------------------------- 4.2/12.8 MB 4.3 MB/s eta 0:00:03\n",
      "     --------------- ------------------------ 5.0/12.8 MB 4.2 MB/s eta 0:00:02\n",
      "     ------------------ --------------------- 6.0/12.8 MB 4.1 MB/s eta 0:00:02\n",
      "     --------------------- ------------------ 6.8/12.8 MB 4.1 MB/s eta 0:00:02\n",
      "     ----------------------- ---------------- 7.6/12.8 MB 4.1 MB/s eta 0:00:02\n",
      "     -------------------------- ------------- 8.4/12.8 MB 4.1 MB/s eta 0:00:02\n",
      "     ---------------------------- ----------- 9.2/12.8 MB 4.0 MB/s eta 0:00:01\n",
      "     ------------------------------- -------- 10.0/12.8 MB 4.0 MB/s eta 0:00:01\n",
      "     --------------------------------- ------ 10.7/12.8 MB 4.0 MB/s eta 0:00:01\n",
      "     ------------------------------------ --- 11.5/12.8 MB 4.0 MB/s eta 0:00:01\n",
      "     ---------------------------------------  12.6/12.8 MB 4.0 MB/s eta 0:00:01\n",
      "     ---------------------------------------- 12.8/12.8 MB 4.0 MB/s eta 0:00:00\n",
      "\u001b[38;5;2m✔ Download and installation successful\u001b[0m\n",
      "You can now load the package via spacy.load('en_core_web_sm')\n"
     ]
    }
   ],
   "source": [
    "!python -m spacy download de_core_news_sm\n",
    "!python -m spacy download en_core_web_sm"
   ]
  },
  {
   "cell_type": "code",
   "execution_count": 8,
   "id": "a478bc5e",
   "metadata": {},
   "outputs": [],
   "source": [
    "import spacy\n",
    "de_tokenizer = spacy.load(\"de_core_news_sm\")\n",
    "en_tokenizer = spacy.load(\"en_core_web_sm\")"
   ]
  },
  {
   "cell_type": "code",
   "execution_count": 9,
   "id": "a934bcea",
   "metadata": {},
   "outputs": [
    {
     "name": "stdout",
     "output_type": "stream",
     "text": [
      "completed collecting tokens\n",
      "completed collecting tokens\n"
     ]
    }
   ],
   "source": [
    "from collections import Counter,defaultdict\n",
    "import io\n",
    "\n",
    "def tokenize(text,tokenizer):\n",
    "    doc = tokenizer(text)\n",
    "    return [token.text.lower() for token in doc if not token.is_space]\n",
    "\n",
    "def build_vocab(filepath,tokenizer,min_freq=1,specials=['<unk>','<bos>','<eos>','<pad>']):\n",
    "    \n",
    "    counter = Counter()\n",
    "    with io.open(filepath,encoding='utf-8') as f:\n",
    "        for string_ in f:\n",
    "            counter.update(tokenize(string_,tokenizer))\n",
    "            \n",
    "    tokens = [tok for tok,freq in counter.items() if freq>=min_freq]\n",
    "    print(\"completed collecting tokens\")\n",
    "    \n",
    "    vocab = {tok:idx for idx,tok in enumerate(specials+tokens)}\n",
    "    \n",
    "    unk_idx = vocab[\"<unk>\"]\n",
    "    vocab = defaultdict(lambda : unk_idx,vocab)\n",
    "        \n",
    "    return vocab\n",
    "\n",
    "de_vocab = build_vocab(train_paths[0],de_tokenizer)\n",
    "ModelArgs.de_vocab_size = len(de_vocab)+1\n",
    "en_vocab = build_vocab(train_paths[1],en_tokenizer)\n",
    "ModelArgs.en_vocab_size = len(en_vocab)+1"
   ]
  },
  {
   "cell_type": "code",
   "execution_count": 10,
   "id": "e58710e7",
   "metadata": {},
   "outputs": [
    {
     "data": {
      "text/plain": [
       "(18667, 9797)"
      ]
     },
     "execution_count": 10,
     "metadata": {},
     "output_type": "execute_result"
    }
   ],
   "source": [
    "ModelArgs.de_vocab_size,ModelArgs.en_vocab_size\n"
   ]
  },
  {
   "cell_type": "code",
   "execution_count": 11,
   "id": "595dbf5d",
   "metadata": {},
   "outputs": [],
   "source": [
    "def create_data(filepaths):\n",
    "    raw_de_iter = iter(io.open(filepaths[0],encoding='utf-8'))\n",
    "    raw_en_iter = iter(io.open(filepaths[1],encoding=\"utf-8\"))\n",
    "    \n",
    "    de_bos_idx = de_vocab[\"<bos>\"]\n",
    "    de_eos_idx = de_vocab[\"<eos>\"]\n",
    "    en_bos_idx = en_vocab[\"<bos>\"]\n",
    "    en_eos_idx = en_vocab[\"<eos>\"]\n",
    "    \n",
    "    data = []\n",
    "    \n",
    "    for raw_de,raw_en in zip(raw_de_iter,raw_en_iter):\n",
    "        de_tensor = torch.tensor([de_vocab[token] for token in raw_de],dtype=torch.long)\n",
    "        en_tensor = torch.tensor([en_vocab[token] for token in raw_en],dtype=torch.long)\n",
    "        \n",
    "        en_tensor = torch.cat([torch.tensor([en_bos_idx]),en_tensor,torch.tensor([en_eos_idx])])\n",
    "        \n",
    "        de_tensor = torch.flip(de_tensor,dims=[0])\n",
    "        \n",
    "        data.append((de_tensor,en_tensor))\n",
    "        \n",
    "    return data\n",
    "\n",
    "train_data = create_data(train_paths)\n",
    "val_data = create_data(val_paths)\n",
    "test_data = create_data(test_paths)\n",
    "\n"
   ]
  },
  {
   "cell_type": "code",
   "execution_count": 12,
   "id": "f5b69ccb",
   "metadata": {},
   "outputs": [],
   "source": [
    "class TranslationDataset(Dataset):\n",
    "    def __init__(self,data):\n",
    "        self.data = data\n",
    "    def __len__(self):\n",
    "        return len(self.data)\n",
    "    \n",
    "    def __getitem__(self, index):\n",
    "        return self.data[index]\n",
    "    \n",
    "train_dataset = TranslationDataset(train_data)\n",
    "val_dataset = TranslationDataset(val_data)\n",
    "test_dataset = TranslationDataset(test_data)\n"
   ]
  },
  {
   "cell_type": "code",
   "execution_count": 13,
   "id": "e2f54de2",
   "metadata": {},
   "outputs": [],
   "source": [
    "from torch.nn.utils.rnn import pad_sequence\n",
    "\n",
    "def collate_function(batch,block_size=ModelArgs.block_size):\n",
    "    \"\"\"\n",
    "    Collate function to pad or truncate sequences to a fixed block size.\n",
    "\n",
    "    Args:\n",
    "        batch: A list of tuples (de_tensor, en_tensor).\n",
    "        block_size: The fixed length to pad or truncate sequences to.\n",
    "\n",
    "    Returns:\n",
    "        de_batch: Padded/truncated German sequences (batch_size, block_size).\n",
    "        en_batch: Padded/truncated English sequences (batch_size, block_size).\n",
    "    \"\"\"\n",
    "    \n",
    "    de_batch , en_batch = zip(*batch)\n",
    "    \n",
    "    def pad_or_truncate(sequence,block_size,pad_value):\n",
    "        if len(sequence) > block_size: # truncate\n",
    "            return sequence[:block_size]\n",
    "        \n",
    "        else: # pad\n",
    "            padding_len = block_size - len(sequence)\n",
    "            return torch.cat([sequence,torch.full(size=(padding_len,),fill_value=pad_value,dtype=sequence.dtype)])\n",
    "    \n",
    "    de_batch = [pad_or_truncate(sample,block_size=block_size,pad_value=de_vocab[\"<pad>\"]) for sample in de_batch ]\n",
    "    en_batch = [pad_or_truncate(sample,block_size=block_size,pad_value=en_vocab[\"<pad>\"]) for sample in en_batch ]\n",
    "    \n",
    "    de_batch = torch.stack(de_batch)\n",
    "    en_batch = torch.stack(en_batch)\n",
    "    \n",
    "    return de_batch,en_batch\n",
    "            "
   ]
  },
  {
   "cell_type": "code",
   "execution_count": 14,
   "id": "8b9dcb4f",
   "metadata": {},
   "outputs": [],
   "source": [
    "# Note \n",
    "\n",
    "# When you use a DataLoader, PyTorch does this internally:\n",
    "# It draws batch_size samples from your dataset using __getitem__\n",
    "# It puts those samples in a list (e.g., batch = [sample1, sample2, ..., sampleN])\n",
    "# It calls your collate_fn(batch) to process that list into a proper batch\n",
    "\n"
   ]
  },
  {
   "cell_type": "code",
   "execution_count": 15,
   "id": "f126e9e4",
   "metadata": {},
   "outputs": [],
   "source": [
    "train_dataloader= DataLoader(dataset=train_dataset,\n",
    "                             batch_size=ModelArgs.batch_size,\n",
    "                             shuffle=True,\n",
    "                             collate_fn=collate_function,\n",
    "                             drop_last=True)\n",
    "\n",
    "val_dataloader = DataLoader(dataset=val_dataset,\n",
    "                            batch_size=ModelArgs.batch_size,\n",
    "                            shuffle=True,\n",
    "                            collate_fn=collate_function,\n",
    "                            drop_last=True)\n",
    "\n",
    "test_dataloader = DataLoader(dataset=test_dataset,\n",
    "                            batch_size=ModelArgs.block_size,\n",
    "                            shuffle=True,\n",
    "                            collate_fn=collate_function,\n",
    "                            drop_last=True)\n",
    "\n"
   ]
  },
  {
   "cell_type": "code",
   "execution_count": 16,
   "id": "c40ca5c7",
   "metadata": {},
   "outputs": [
    {
     "name": "stdout",
     "output_type": "stream",
     "text": [
      "2\n",
      "torch.Size([32, 32])\n",
      "torch.Size([32, 32])\n"
     ]
    }
   ],
   "source": [
    "for batch in train_dataloader:\n",
    "    print(len(batch))\n",
    "    break\n",
    "\n",
    "for deb,enb in train_dataloader:\n",
    "    print(deb.shape)\n",
    "    print(enb.shape)\n",
    "    break"
   ]
  },
  {
   "cell_type": "markdown",
   "id": "2a927f8e",
   "metadata": {},
   "source": [
    "## LSTM"
   ]
  },
  {
   "cell_type": "code",
   "execution_count": 17,
   "id": "45e88a71",
   "metadata": {},
   "outputs": [],
   "source": [
    "import torch.nn as nn\n",
    "\n",
    "class ForgetGate(nn.Module):\n",
    "    def __init__(self,h_t_size,embedding_dim):\n",
    "        super(ForgetGate,self).__init__()\n",
    "        \n",
    "        self.sigma_nn = nn.Sequential(\n",
    "            nn.Linear(in_features=h_t_size+embedding_dim,out_features=h_t_size),\n",
    "            nn.Sigmoid()\n",
    "        )\n",
    "        \n",
    "    def forward(self,h_t,X_t):\n",
    "        # print(f\"h_t : {h_t.shape}\")\n",
    "        # print(f\"X_t : {X_t.shape}\")\n",
    "        combined = torch.cat([h_t,X_t],dim=1)\n",
    "        \n",
    "        # print(f\"combined : {combined.shape}\")\n",
    "        \n",
    "        # print(self.sigma_nn[0].in_features)\n",
    "        \n",
    "        f_t = self.sigma_nn(combined)\n",
    "        \n",
    "        return f_t"
   ]
  },
  {
   "cell_type": "code",
   "execution_count": 18,
   "id": "cae5efa1",
   "metadata": {},
   "outputs": [],
   "source": [
    "class InputGate(nn.Module):\n",
    "    def __init__(self,h_t_size,embedding_dim):\n",
    "        super(InputGate,self).__init__()\n",
    "        \n",
    "        self.sigma_nn = nn.Sequential(\n",
    "            nn.Linear(in_features=h_t_size+embedding_dim,out_features=h_t_size),\n",
    "            nn.Sigmoid()\n",
    "        )\n",
    "        \n",
    "        self.tanh_nn = nn.Sequential(\n",
    "            nn.Linear(in_features=h_t_size+embedding_dim,out_features=h_t_size),\n",
    "            nn.Tanh()\n",
    "        )\n",
    "        \n",
    "    def forward(self,h_t,X_t):\n",
    "        combined = torch.cat([h_t,X_t],dim=1)\n",
    "        \n",
    "        i_t = self.sigma_nn(combined)\n",
    "        \n",
    "        candidate_hidden_state = self.tanh_nn(combined)\n",
    "        \n",
    "        c_t_dash = i_t * candidate_hidden_state\n",
    "        \n",
    "        return c_t_dash"
   ]
  },
  {
   "cell_type": "code",
   "execution_count": 19,
   "id": "8eafc23f",
   "metadata": {},
   "outputs": [],
   "source": [
    "class OutputGate(nn.Module):\n",
    "    def __init__(self,h_t_size,embedding_dim):\n",
    "        super(OutputGate,self).__init__()\n",
    "        \n",
    "        self.sigma_nn = nn.Sequential(\n",
    "            nn.Linear(in_features=h_t_size+embedding_dim,out_features=h_t_size),\n",
    "            nn.Sigmoid()\n",
    "        )\n",
    "        \n",
    "    def forward(self,h_t,X_t):\n",
    "        combined = torch.cat([h_t,X_t],dim=1)\n",
    "        \n",
    "        o_t = self.sigma_nn(combined)\n",
    "        \n",
    "        return o_t"
   ]
  },
  {
   "cell_type": "code",
   "execution_count": 20,
   "id": "79affb93",
   "metadata": {},
   "outputs": [],
   "source": [
    "class LSTMCell(nn.Module):\n",
    "    def __init__(self,h_t_size,embedding_dim):\n",
    "        super(LSTMCell,self).__init__()\n",
    "        \n",
    "        self.forget_gate = ForgetGate(h_t_size=h_t_size,embedding_dim=embedding_dim)\n",
    "        \n",
    "        self.input_gate = InputGate(h_t_size=h_t_size,embedding_dim=embedding_dim)\n",
    "        \n",
    "        self.output_gate = ForgetGate(h_t_size=h_t_size,embedding_dim=embedding_dim)\n",
    "        \n",
    "    def forward(self,h_t,c_t,X_t):\n",
    "        f_t = self.forget_gate(h_t,X_t)\n",
    "        \n",
    "        c_t = c_t * f_t\n",
    "        \n",
    "        c_t_dash = self.input_gate(h_t,X_t)\n",
    "        \n",
    "        c_t = c_t + c_t_dash\n",
    "        \n",
    "        o_t = self.output_gate(h_t,X_t)\n",
    "        \n",
    "        h_t = torch.tanh(c_t) * o_t\n",
    "        \n",
    "        return h_t,c_t"
   ]
  },
  {
   "cell_type": "code",
   "execution_count": 21,
   "id": "19ff07ef",
   "metadata": {},
   "outputs": [],
   "source": [
    "class LSTMModel(nn.Module):\n",
    "    def __init__(self,h_t_size,embedding_dim):\n",
    "        # embedding dim -> input dim\n",
    "        super(LSTMModel,self).__init__()\n",
    "        \n",
    "        self.lstm_cell = LSTMCell(h_t_size=h_t_size,embedding_dim=embedding_dim)\n",
    "        \n",
    "    def forward(self,X,h_t=None,c_t=None):\n",
    "        \"\"\"\n",
    "        Returns the final hidden state vector & cell state vector after performaing forward pass for all time steps through the single LSTM cell \n",
    "        \n",
    "        Args:\n",
    "            X : input\n",
    "            y : target\n",
    "            h_t : hidden state vector , default = None\n",
    "            c_t : cell state vector , default = None\n",
    "        Return:\n",
    "            h_t : hidden state vector after all time steps\n",
    "            c_t : cell satet vector after all time steps\n",
    "        \"\"\"\n",
    "        if h_t == None:\n",
    "            h_t =torch.zeros(size=[ModelArgs.batch_size,ModelArgs.ht_size],device=ModelArgs.device) # if we facilitate automatic device conversion while converting the model device , we have to register them to model parameters(i.e, in __ini__())\n",
    "        if c_t == None:\n",
    "            c_t = torch.zeros(size=[ModelArgs.batch_size,ModelArgs.ht_size],device=ModelArgs.device) # if we facilitate automatic device conversion while converting the model device , we have to register them to model parameters(i.e, in __ini__())\n",
    "    \n",
    "        # print(f\"X shape : {X.shape}\")\n",
    "        # for i in range(X.shape[0]):\n",
    "        #     X_i = X[:,i].unsqueeze(1)\n",
    "        #     print(f\"X_i : {X_i.shape}\")\n",
    "        #     h_t,c_t = self.lstm_cell(h_t,c_t,X_i)\n",
    "        \n",
    "        h_t,c_t = self.lstm_cell(h_t,c_t,X)\n",
    "        \n",
    "        return h_t,c_t\n",
    "        \n",
    "        "
   ]
  },
  {
   "cell_type": "code",
   "execution_count": 22,
   "id": "d14a0a38",
   "metadata": {},
   "outputs": [],
   "source": [
    "import torch.nn.functional as F\n",
    "class Embeddingtable(nn.Module):\n",
    "    def __init__(self,vocab_size,embedding_dim):\n",
    "        super(Embeddingtable,self).__init__()\n",
    "        self.embedding_layer = nn.Embedding(num_embeddings=vocab_size,embedding_dim=embedding_dim)\n",
    "        \n",
    "    def forward(self,X):\n",
    "        # print(self.embedding_layer.num_embeddings)\n",
    "        # print(X.device)\n",
    "        return self.embedding_layer(X)\n",
    "    \n",
    "    def find_index_from_embedding(self,embedding):\n",
    "        all_embeddings = self.embedding_layer.weight\n",
    "        similarities = F.cosine_similarity(all_embeddings,embedding,dim=1)\n",
    "        \n",
    "        best_index = torch.argmax(similarities).item()\n",
    "        return best_index"
   ]
  },
  {
   "cell_type": "code",
   "execution_count": 23,
   "id": "6635df1c",
   "metadata": {},
   "outputs": [],
   "source": [
    "from collections import deque\n",
    "class Encoder(nn.Module):\n",
    "    def __init__(self,h_t_size,embedding_dim,no_of_lstm_layers,vocab_size):\n",
    "        super(Encoder,self).__init__()\n",
    "        # embedding dim -> noting but input dim\n",
    "        self.embedding_layer= Embeddingtable(vocab_size=vocab_size,embedding_dim=embedding_dim)\n",
    "        self.layer_of_lstms = nn.ModuleList([LSTMModel(h_t_size=h_t_size,embedding_dim=embedding_dim)])\n",
    "        for i in range(no_of_lstm_layers-1):\n",
    "            self.layer_of_lstms.append(LSTMModel(h_t_size=h_t_size,embedding_dim=h_t_size))\n",
    "        \n",
    "    def forward(self,X):\n",
    "        queue = deque()\n",
    "        for time_step in range(X.shape[0]):\n",
    "            X_i = X[:,time_step]\n",
    "            e_i = self.embedding_layer(X_i)\n",
    "            # print(f\"e_i : {e_i.shape}\")\n",
    "            for layer in range(len(self.layer_of_lstms)):\n",
    "                if time_step == 0:\n",
    "                    h_t,c_t = self.layer_of_lstms[layer](e_i)\n",
    "                else:\n",
    "                    h_t,c_t = self.layer_of_lstms[layer](e_i,*queue.popleft())\n",
    "                queue.append((h_t,c_t)) \n",
    "                e_i = h_t # for the upper layers the h_t becomes input\n",
    "                \n",
    "        return list(queue)\n",
    "        "
   ]
  },
  {
   "cell_type": "code",
   "execution_count": 24,
   "id": "1227d0f2",
   "metadata": {},
   "outputs": [],
   "source": [
    "class Decoder(nn.Module):\n",
    "    def __init__(self,h_t_size,embedding_dim,no_of_lstm_layers,vocab_size):\n",
    "        super(Decoder,self).__init__()\n",
    "        \n",
    "        self.embedding_layer = nn.Embedding(num_embeddings=vocab_size,embedding_dim=embedding_dim)\n",
    "        self.layer_of_lstms = nn.ModuleList([LSTMModel(h_t_size=h_t_size,embedding_dim=embedding_dim)])\n",
    "        for i in range(no_of_lstm_layers-1):\n",
    "            self.layer_of_lstms.append(LSTMModel(h_t_size=h_t_size,embedding_dim=h_t_size))\n",
    "            # for the upper layer we send h_t as input so the embedding_dim (input_dim) is equal to h_t_size\n",
    "        self.classification_head = nn.Linear(in_features=h_t_size,out_features=vocab_size)\n",
    "        \n",
    "    def forward(self,states,X=None):\n",
    "        # print(\"Decoder\")\n",
    "        all_logits = []\n",
    "        queue = deque(states)\n",
    "        for time_step in range(ModelArgs.block_size):\n",
    "            if X is not None:\n",
    "                X_i = X[:,time_step]\n",
    "                e_i = self.embedding_layer(X_i)\n",
    "            else:\n",
    "                if time_step==0:\n",
    "                    X_i = torch.full(size=[ModelArgs.batch_size],fill_value=en_vocab[\"<bos>\"],device=ModelArgs.device)\n",
    "                    e_i = self.embedding_layer(X_i)\n",
    "                else:\n",
    "                    X_i = preds\n",
    "                    e_i = self.embedding_layer(X_i)\n",
    "            for layer in range(len(self.layer_of_lstms)):\n",
    "                # t = queue.popleft()\n",
    "                # print(f\"Layer : {layer}\")\n",
    "                h_t,c_t = self.layer_of_lstms[layer](e_i,*queue.popleft())\n",
    "                e_i = h_t\n",
    "                queue.append((h_t,c_t))\n",
    "            logit_curr_time_step = self.classification_head(h_t)\n",
    "            preds = torch.softmax(logit_curr_time_step,dim=1)\n",
    "            preds = torch.argmax(preds,dim=1)\n",
    "            \n",
    "            all_logits.append(logit_curr_time_step)\n",
    "            \n",
    "        return torch.stack(all_logits)"
   ]
  },
  {
   "cell_type": "code",
   "execution_count": 25,
   "id": "d7d064c9",
   "metadata": {},
   "outputs": [],
   "source": [
    "class Seq2Seq(nn.Module):\n",
    "    def __init__(self,h_t_size,embedding_dim,no_of_lstm_layers,src_vocab_size,dest_vocab_size):\n",
    "        super().__init__()\n",
    "        self.enocder = Encoder(h_t_size=h_t_size,embedding_dim=embedding_dim,no_of_lstm_layers=no_of_lstm_layers,vocab_size=src_vocab_size)\n",
    "        self.decoder = Decoder(h_t_size=h_t_size,embedding_dim=embedding_dim,no_of_lstm_layers=no_of_lstm_layers,vocab_size=dest_vocab_size)\n",
    "        \n",
    "\n",
    "    def forward(self,X,y=None):\n",
    "        states = self.enocder(X)\n",
    "        # print(len(states))\n",
    "        if y is not None:\n",
    "            all_logits = self.decoder(states,y)\n",
    "        else:\n",
    "            all_logits = self.decoder(states)\n",
    "        \n",
    "        return all_logits\n",
    "        \n",
    "        \n",
    "        "
   ]
  },
  {
   "cell_type": "code",
   "execution_count": 26,
   "id": "bb8c1d8c",
   "metadata": {},
   "outputs": [],
   "source": [
    "model = Seq2Seq(h_t_size=ModelArgs.ht_size,embedding_dim=ModelArgs.embedding_dim,no_of_lstm_layers=ModelArgs.no_of_lstm_layes,src_vocab_size=ModelArgs.de_vocab_size,dest_vocab_size=ModelArgs.en_vocab_size)\n",
    "model = model.to(ModelArgs.device)"
   ]
  },
  {
   "cell_type": "code",
   "execution_count": 27,
   "id": "33692ab9",
   "metadata": {},
   "outputs": [],
   "source": [
    "sample_batch = next(iter(train_dataloader))"
   ]
  },
  {
   "cell_type": "code",
   "execution_count": 28,
   "id": "1039556a",
   "metadata": {},
   "outputs": [],
   "source": [
    "res = model(sample_batch[0].to(ModelArgs.device),sample_batch[1].to(ModelArgs.device))"
   ]
  },
  {
   "cell_type": "code",
   "execution_count": 29,
   "id": "178367b3",
   "metadata": {},
   "outputs": [
    {
     "name": "stdout",
     "output_type": "stream",
     "text": [
      "torch.Size([32, 32, 9797])\n"
     ]
    }
   ],
   "source": [
    "print(res.shape)"
   ]
  },
  {
   "cell_type": "code",
   "execution_count": null,
   "id": "af746ac4",
   "metadata": {},
   "outputs": [],
   "source": []
  },
  {
   "cell_type": "code",
   "execution_count": 30,
   "id": "7082eac7",
   "metadata": {},
   "outputs": [
    {
     "name": "stdout",
     "output_type": "stream",
     "text": [
      "torch.Size([32, 32, 9797])\n"
     ]
    }
   ],
   "source": [
    "res = model(sample_batch[0].to(ModelArgs.device))\n",
    "print(res.shape)"
   ]
  },
  {
   "cell_type": "code",
   "execution_count": null,
   "id": "0fb4b3e6",
   "metadata": {},
   "outputs": [],
   "source": []
  },
  {
   "cell_type": "code",
   "execution_count": 31,
   "id": "d1492f05",
   "metadata": {},
   "outputs": [],
   "source": [
    "def train(model,model_name,criterion,optimizer,epochs,min_val_loss,train_dataloader,val_dataloader,device,patience,lr_scheduler):\n",
    "    from tqdm import tqdm\n",
    "    best_val_loss = float('inf')\n",
    "    model = model.to(device)\n",
    "    \n",
    "    train_losses,val_losses,train_accs,val_accs = [],[],[],[]\n",
    "    for epoch in range(epochs):\n",
    "        model.train()\n",
    "        train_loss,correct,total = 0.0,0,0\n",
    "        train_progress = tqdm(train_dataloader,desc=\"Training\")\n",
    "        \n",
    "        for de_batch,en_batch in train_progress:\n",
    "            \n",
    "            de_batch = de_batch.to(device)\n",
    "            en_batch = en_batch.to(device)\n",
    "            \n",
    "            optimizer.zero_grad()\n",
    "            all_logits = model(de_batch,en_batch)\n",
    "            all_logits = all_logits.view(-1,ModelArgs.en_vocab_size) # [number of samples , number of classes]\n",
    "            en_batch = en_batch.view(-1) # [number of samples , ]\n",
    "            \n",
    "            loss = criterion(all_logits,en_batch)\n",
    "            loss.backward()\n",
    "            optimizer.step()\n",
    "            \n",
    "            preds = torch.softmax(all_logits,dim=1)\n",
    "            preds = torch.argmax(preds,dim=1)\n",
    "            \n",
    "            train_loss += loss.item()\n",
    "            correct += (preds == en_batch).sum()\n",
    "            total += en_batch.shape[0]\n",
    "            \n",
    "            train_progress.set_postfix({\"loss\":f\"{loss.item():.4f}\"})\n",
    "        \n",
    "        train_loss /= len(train_dataloader)\n",
    "        train_acc = correct/total\n",
    "        \n",
    "        with torch.inference_mode():\n",
    "            model.eval()\n",
    "\n",
    "            val_loss,correct,total = 0.0,0,0\n",
    "            val_progress = tqdm(val_dataloader,desc=\"Evaluation\")\n",
    "            for de_batch,en_batch in val_progress:\n",
    "                de_batch = de_batch.to(device)\n",
    "                en_batch = en_batch.to(device)\n",
    "                \n",
    "                all_logits = model(de_batch,en_batch)\n",
    "                all_logits = all_logits.view(-1,ModelArgs.en_vocab_size)\n",
    "                en_batch = en_batch.view(-1)\n",
    "                \n",
    "                loss = criterion(all_logits,en_batch)\n",
    "                \n",
    "                preds = torch.softmax(all_logits,dim=1)\n",
    "                preds = torch.argmax(preds,dim=1)\n",
    "                \n",
    "                val_loss += loss.item()\n",
    "                correct += (preds == en_batch).sum()\n",
    "                total += en_batch.shape[0]\n",
    "                \n",
    "                val_progress.set_postfix({\"loss\":f\"{loss.item():.4f}\"})\n",
    "            \n",
    "            val_loss /= len(val_dataloader)\n",
    "            val_acc = correct/total\n",
    "            \n",
    "        print(f\"EPOCH : {epoch}/{epochs} \\n Train Loss : {train_loss:.4f} \\n Val Loss : {val_loss:.4f} \\n Train Acc : {train_acc:.4f} \\n Val Acc : {val_acc:.4f}\\n\\n\")\n",
    "        \n",
    "        lr_scheduler.step(val_loss)\n",
    "        \n",
    "        train_losses.append(train_loss)\n",
    "        val_losses.append(val_losses)\n",
    "        train_accs.append(train_acc)\n",
    "        val_accs.append(val_acc)    \n",
    "        \n",
    "        if val_loss < min_val_loss:\n",
    "            print(\"[SUCCESS] model trained successfully\")\n",
    "            break\n",
    "        \n",
    "        if best_val_loss > val_loss:\n",
    "            best_val_loss = val_loss\n",
    "            torch.save(model.state_dict(),model_name)\n",
    "    \n",
    "    return train_losses,val_losses,train_accs,val_accs\n",
    "            \n",
    "        \n",
    "        "
   ]
  },
  {
   "cell_type": "code",
   "execution_count": 32,
   "id": "9b8455c5",
   "metadata": {},
   "outputs": [
    {
     "data": {
      "text/plain": [
       "=======================================================================================================================================\n",
       "Layer (type (var_name))                                 Input Shape          Output Shape         Param #              Trainable\n",
       "=======================================================================================================================================\n",
       "Seq2Seq (Seq2Seq)                                       [32, 32]             [32, 32, 9797]       --                   True\n",
       "├─Encoder (enocder)                                     [32, 32]             [32, 64]             --                   True\n",
       "│    └─Embeddingtable (embedding_layer)                 [32]                 [32, 32]             --                   True\n",
       "│    │    └─Embedding (embedding_layer)                 [32]                 [32, 32]             597,344              True\n",
       "│    └─ModuleList (layer_of_lstms)                      --                   --                   (recursive)          True\n",
       "│    │    └─LSTMModel (0)                               [32, 32]             [32, 64]             24,832               True\n",
       "│    │    └─LSTMModel (1)                               [32, 64]             [32, 64]             33,024               True\n",
       "│    │    └─LSTMModel (2)                               [32, 64]             [32, 64]             33,024               True\n",
       "│    │    └─LSTMModel (3)                               [32, 64]             [32, 64]             33,024               True\n",
       "│    └─Embeddingtable (embedding_layer)                 [32]                 [32, 32]             (recursive)          True\n",
       "│    │    └─Embedding (embedding_layer)                 [32]                 [32, 32]             (recursive)          True\n",
       "│    └─ModuleList (layer_of_lstms)                      --                   --                   (recursive)          True\n",
       "│    │    └─LSTMModel (0)                               [32, 32]             [32, 64]             (recursive)          True\n",
       "│    │    └─LSTMModel (1)                               [32, 64]             [32, 64]             (recursive)          True\n",
       "│    │    └─LSTMModel (2)                               [32, 64]             [32, 64]             (recursive)          True\n",
       "│    │    └─LSTMModel (3)                               [32, 64]             [32, 64]             (recursive)          True\n",
       "│    └─Embeddingtable (embedding_layer)                 [32]                 [32, 32]             (recursive)          True\n",
       "│    │    └─Embedding (embedding_layer)                 [32]                 [32, 32]             (recursive)          True\n",
       "│    └─ModuleList (layer_of_lstms)                      --                   --                   (recursive)          True\n",
       "│    │    └─LSTMModel (0)                               [32, 32]             [32, 64]             (recursive)          True\n",
       "│    │    └─LSTMModel (1)                               [32, 64]             [32, 64]             (recursive)          True\n",
       "│    │    └─LSTMModel (2)                               [32, 64]             [32, 64]             (recursive)          True\n",
       "│    │    └─LSTMModel (3)                               [32, 64]             [32, 64]             (recursive)          True\n",
       "│    └─Embeddingtable (embedding_layer)                 [32]                 [32, 32]             (recursive)          True\n",
       "│    │    └─Embedding (embedding_layer)                 [32]                 [32, 32]             (recursive)          True\n",
       "│    └─ModuleList (layer_of_lstms)                      --                   --                   (recursive)          True\n",
       "│    │    └─LSTMModel (0)                               [32, 32]             [32, 64]             (recursive)          True\n",
       "│    │    └─LSTMModel (1)                               [32, 64]             [32, 64]             (recursive)          True\n",
       "│    │    └─LSTMModel (2)                               [32, 64]             [32, 64]             (recursive)          True\n",
       "│    │    └─LSTMModel (3)                               [32, 64]             [32, 64]             (recursive)          True\n",
       "│    └─Embeddingtable (embedding_layer)                 [32]                 [32, 32]             (recursive)          True\n",
       "│    │    └─Embedding (embedding_layer)                 [32]                 [32, 32]             (recursive)          True\n",
       "│    └─ModuleList (layer_of_lstms)                      --                   --                   (recursive)          True\n",
       "│    │    └─LSTMModel (0)                               [32, 32]             [32, 64]             (recursive)          True\n",
       "│    │    └─LSTMModel (1)                               [32, 64]             [32, 64]             (recursive)          True\n",
       "│    │    └─LSTMModel (2)                               [32, 64]             [32, 64]             (recursive)          True\n",
       "│    │    └─LSTMModel (3)                               [32, 64]             [32, 64]             (recursive)          True\n",
       "│    └─Embeddingtable (embedding_layer)                 [32]                 [32, 32]             (recursive)          True\n",
       "│    │    └─Embedding (embedding_layer)                 [32]                 [32, 32]             (recursive)          True\n",
       "│    └─ModuleList (layer_of_lstms)                      --                   --                   (recursive)          True\n",
       "│    │    └─LSTMModel (0)                               [32, 32]             [32, 64]             (recursive)          True\n",
       "│    │    └─LSTMModel (1)                               [32, 64]             [32, 64]             (recursive)          True\n",
       "│    │    └─LSTMModel (2)                               [32, 64]             [32, 64]             (recursive)          True\n",
       "│    │    └─LSTMModel (3)                               [32, 64]             [32, 64]             (recursive)          True\n",
       "│    └─Embeddingtable (embedding_layer)                 [32]                 [32, 32]             (recursive)          True\n",
       "│    │    └─Embedding (embedding_layer)                 [32]                 [32, 32]             (recursive)          True\n",
       "│    └─ModuleList (layer_of_lstms)                      --                   --                   (recursive)          True\n",
       "│    │    └─LSTMModel (0)                               [32, 32]             [32, 64]             (recursive)          True\n",
       "│    │    └─LSTMModel (1)                               [32, 64]             [32, 64]             (recursive)          True\n",
       "│    │    └─LSTMModel (2)                               [32, 64]             [32, 64]             (recursive)          True\n",
       "│    │    └─LSTMModel (3)                               [32, 64]             [32, 64]             (recursive)          True\n",
       "│    └─Embeddingtable (embedding_layer)                 [32]                 [32, 32]             (recursive)          True\n",
       "│    │    └─Embedding (embedding_layer)                 [32]                 [32, 32]             (recursive)          True\n",
       "│    └─ModuleList (layer_of_lstms)                      --                   --                   (recursive)          True\n",
       "│    │    └─LSTMModel (0)                               [32, 32]             [32, 64]             (recursive)          True\n",
       "│    │    └─LSTMModel (1)                               [32, 64]             [32, 64]             (recursive)          True\n",
       "│    │    └─LSTMModel (2)                               [32, 64]             [32, 64]             (recursive)          True\n",
       "│    │    └─LSTMModel (3)                               [32, 64]             [32, 64]             (recursive)          True\n",
       "│    └─Embeddingtable (embedding_layer)                 [32]                 [32, 32]             (recursive)          True\n",
       "│    │    └─Embedding (embedding_layer)                 [32]                 [32, 32]             (recursive)          True\n",
       "│    └─ModuleList (layer_of_lstms)                      --                   --                   (recursive)          True\n",
       "│    │    └─LSTMModel (0)                               [32, 32]             [32, 64]             (recursive)          True\n",
       "│    │    └─LSTMModel (1)                               [32, 64]             [32, 64]             (recursive)          True\n",
       "│    │    └─LSTMModel (2)                               [32, 64]             [32, 64]             (recursive)          True\n",
       "│    │    └─LSTMModel (3)                               [32, 64]             [32, 64]             (recursive)          True\n",
       "│    └─Embeddingtable (embedding_layer)                 [32]                 [32, 32]             (recursive)          True\n",
       "│    │    └─Embedding (embedding_layer)                 [32]                 [32, 32]             (recursive)          True\n",
       "│    └─ModuleList (layer_of_lstms)                      --                   --                   (recursive)          True\n",
       "│    │    └─LSTMModel (0)                               [32, 32]             [32, 64]             (recursive)          True\n",
       "│    │    └─LSTMModel (1)                               [32, 64]             [32, 64]             (recursive)          True\n",
       "│    │    └─LSTMModel (2)                               [32, 64]             [32, 64]             (recursive)          True\n",
       "│    │    └─LSTMModel (3)                               [32, 64]             [32, 64]             (recursive)          True\n",
       "│    └─Embeddingtable (embedding_layer)                 [32]                 [32, 32]             (recursive)          True\n",
       "│    │    └─Embedding (embedding_layer)                 [32]                 [32, 32]             (recursive)          True\n",
       "│    └─ModuleList (layer_of_lstms)                      --                   --                   (recursive)          True\n",
       "│    │    └─LSTMModel (0)                               [32, 32]             [32, 64]             (recursive)          True\n",
       "│    │    └─LSTMModel (1)                               [32, 64]             [32, 64]             (recursive)          True\n",
       "│    │    └─LSTMModel (2)                               [32, 64]             [32, 64]             (recursive)          True\n",
       "│    │    └─LSTMModel (3)                               [32, 64]             [32, 64]             (recursive)          True\n",
       "│    └─Embeddingtable (embedding_layer)                 [32]                 [32, 32]             (recursive)          True\n",
       "│    │    └─Embedding (embedding_layer)                 [32]                 [32, 32]             (recursive)          True\n",
       "│    └─ModuleList (layer_of_lstms)                      --                   --                   (recursive)          True\n",
       "│    │    └─LSTMModel (0)                               [32, 32]             [32, 64]             (recursive)          True\n",
       "│    │    └─LSTMModel (1)                               [32, 64]             [32, 64]             (recursive)          True\n",
       "│    │    └─LSTMModel (2)                               [32, 64]             [32, 64]             (recursive)          True\n",
       "│    │    └─LSTMModel (3)                               [32, 64]             [32, 64]             (recursive)          True\n",
       "│    └─Embeddingtable (embedding_layer)                 [32]                 [32, 32]             (recursive)          True\n",
       "│    │    └─Embedding (embedding_layer)                 [32]                 [32, 32]             (recursive)          True\n",
       "│    └─ModuleList (layer_of_lstms)                      --                   --                   (recursive)          True\n",
       "│    │    └─LSTMModel (0)                               [32, 32]             [32, 64]             (recursive)          True\n",
       "│    │    └─LSTMModel (1)                               [32, 64]             [32, 64]             (recursive)          True\n",
       "│    │    └─LSTMModel (2)                               [32, 64]             [32, 64]             (recursive)          True\n",
       "│    │    └─LSTMModel (3)                               [32, 64]             [32, 64]             (recursive)          True\n",
       "│    └─Embeddingtable (embedding_layer)                 [32]                 [32, 32]             (recursive)          True\n",
       "│    │    └─Embedding (embedding_layer)                 [32]                 [32, 32]             (recursive)          True\n",
       "│    └─ModuleList (layer_of_lstms)                      --                   --                   (recursive)          True\n",
       "│    │    └─LSTMModel (0)                               [32, 32]             [32, 64]             (recursive)          True\n",
       "│    │    └─LSTMModel (1)                               [32, 64]             [32, 64]             (recursive)          True\n",
       "│    │    └─LSTMModel (2)                               [32, 64]             [32, 64]             (recursive)          True\n",
       "│    │    └─LSTMModel (3)                               [32, 64]             [32, 64]             (recursive)          True\n",
       "│    └─Embeddingtable (embedding_layer)                 [32]                 [32, 32]             (recursive)          True\n",
       "│    │    └─Embedding (embedding_layer)                 [32]                 [32, 32]             (recursive)          True\n",
       "│    └─ModuleList (layer_of_lstms)                      --                   --                   (recursive)          True\n",
       "│    │    └─LSTMModel (0)                               [32, 32]             [32, 64]             (recursive)          True\n",
       "│    │    └─LSTMModel (1)                               [32, 64]             [32, 64]             (recursive)          True\n",
       "│    │    └─LSTMModel (2)                               [32, 64]             [32, 64]             (recursive)          True\n",
       "│    │    └─LSTMModel (3)                               [32, 64]             [32, 64]             (recursive)          True\n",
       "│    └─Embeddingtable (embedding_layer)                 [32]                 [32, 32]             (recursive)          True\n",
       "│    │    └─Embedding (embedding_layer)                 [32]                 [32, 32]             (recursive)          True\n",
       "│    └─ModuleList (layer_of_lstms)                      --                   --                   (recursive)          True\n",
       "│    │    └─LSTMModel (0)                               [32, 32]             [32, 64]             (recursive)          True\n",
       "│    │    └─LSTMModel (1)                               [32, 64]             [32, 64]             (recursive)          True\n",
       "│    │    └─LSTMModel (2)                               [32, 64]             [32, 64]             (recursive)          True\n",
       "│    │    └─LSTMModel (3)                               [32, 64]             [32, 64]             (recursive)          True\n",
       "│    └─Embeddingtable (embedding_layer)                 [32]                 [32, 32]             (recursive)          True\n",
       "│    │    └─Embedding (embedding_layer)                 [32]                 [32, 32]             (recursive)          True\n",
       "│    └─ModuleList (layer_of_lstms)                      --                   --                   (recursive)          True\n",
       "│    │    └─LSTMModel (0)                               [32, 32]             [32, 64]             (recursive)          True\n",
       "│    │    └─LSTMModel (1)                               [32, 64]             [32, 64]             (recursive)          True\n",
       "│    │    └─LSTMModel (2)                               [32, 64]             [32, 64]             (recursive)          True\n",
       "│    │    └─LSTMModel (3)                               [32, 64]             [32, 64]             (recursive)          True\n",
       "│    └─Embeddingtable (embedding_layer)                 [32]                 [32, 32]             (recursive)          True\n",
       "│    │    └─Embedding (embedding_layer)                 [32]                 [32, 32]             (recursive)          True\n",
       "│    └─ModuleList (layer_of_lstms)                      --                   --                   (recursive)          True\n",
       "│    │    └─LSTMModel (0)                               [32, 32]             [32, 64]             (recursive)          True\n",
       "│    │    └─LSTMModel (1)                               [32, 64]             [32, 64]             (recursive)          True\n",
       "│    │    └─LSTMModel (2)                               [32, 64]             [32, 64]             (recursive)          True\n",
       "│    │    └─LSTMModel (3)                               [32, 64]             [32, 64]             (recursive)          True\n",
       "│    └─Embeddingtable (embedding_layer)                 [32]                 [32, 32]             (recursive)          True\n",
       "│    │    └─Embedding (embedding_layer)                 [32]                 [32, 32]             (recursive)          True\n",
       "│    └─ModuleList (layer_of_lstms)                      --                   --                   (recursive)          True\n",
       "│    │    └─LSTMModel (0)                               [32, 32]             [32, 64]             (recursive)          True\n",
       "│    │    └─LSTMModel (1)                               [32, 64]             [32, 64]             (recursive)          True\n",
       "│    │    └─LSTMModel (2)                               [32, 64]             [32, 64]             (recursive)          True\n",
       "│    │    └─LSTMModel (3)                               [32, 64]             [32, 64]             (recursive)          True\n",
       "│    └─Embeddingtable (embedding_layer)                 [32]                 [32, 32]             (recursive)          True\n",
       "│    │    └─Embedding (embedding_layer)                 [32]                 [32, 32]             (recursive)          True\n",
       "│    └─ModuleList (layer_of_lstms)                      --                   --                   (recursive)          True\n",
       "│    │    └─LSTMModel (0)                               [32, 32]             [32, 64]             (recursive)          True\n",
       "│    │    └─LSTMModel (1)                               [32, 64]             [32, 64]             (recursive)          True\n",
       "│    │    └─LSTMModel (2)                               [32, 64]             [32, 64]             (recursive)          True\n",
       "│    │    └─LSTMModel (3)                               [32, 64]             [32, 64]             (recursive)          True\n",
       "│    └─Embeddingtable (embedding_layer)                 [32]                 [32, 32]             (recursive)          True\n",
       "│    │    └─Embedding (embedding_layer)                 [32]                 [32, 32]             (recursive)          True\n",
       "│    └─ModuleList (layer_of_lstms)                      --                   --                   (recursive)          True\n",
       "│    │    └─LSTMModel (0)                               [32, 32]             [32, 64]             (recursive)          True\n",
       "│    │    └─LSTMModel (1)                               [32, 64]             [32, 64]             (recursive)          True\n",
       "│    │    └─LSTMModel (2)                               [32, 64]             [32, 64]             (recursive)          True\n",
       "│    │    └─LSTMModel (3)                               [32, 64]             [32, 64]             (recursive)          True\n",
       "│    └─Embeddingtable (embedding_layer)                 [32]                 [32, 32]             (recursive)          True\n",
       "│    │    └─Embedding (embedding_layer)                 [32]                 [32, 32]             (recursive)          True\n",
       "│    └─ModuleList (layer_of_lstms)                      --                   --                   (recursive)          True\n",
       "│    │    └─LSTMModel (0)                               [32, 32]             [32, 64]             (recursive)          True\n",
       "│    │    └─LSTMModel (1)                               [32, 64]             [32, 64]             (recursive)          True\n",
       "│    │    └─LSTMModel (2)                               [32, 64]             [32, 64]             (recursive)          True\n",
       "│    │    └─LSTMModel (3)                               [32, 64]             [32, 64]             (recursive)          True\n",
       "│    └─Embeddingtable (embedding_layer)                 [32]                 [32, 32]             (recursive)          True\n",
       "│    │    └─Embedding (embedding_layer)                 [32]                 [32, 32]             (recursive)          True\n",
       "│    └─ModuleList (layer_of_lstms)                      --                   --                   (recursive)          True\n",
       "│    │    └─LSTMModel (0)                               [32, 32]             [32, 64]             (recursive)          True\n",
       "│    │    └─LSTMModel (1)                               [32, 64]             [32, 64]             (recursive)          True\n",
       "│    │    └─LSTMModel (2)                               [32, 64]             [32, 64]             (recursive)          True\n",
       "│    │    └─LSTMModel (3)                               [32, 64]             [32, 64]             (recursive)          True\n",
       "│    └─Embeddingtable (embedding_layer)                 [32]                 [32, 32]             (recursive)          True\n",
       "│    │    └─Embedding (embedding_layer)                 [32]                 [32, 32]             (recursive)          True\n",
       "│    └─ModuleList (layer_of_lstms)                      --                   --                   (recursive)          True\n",
       "│    │    └─LSTMModel (0)                               [32, 32]             [32, 64]             (recursive)          True\n",
       "│    │    └─LSTMModel (1)                               [32, 64]             [32, 64]             (recursive)          True\n",
       "│    │    └─LSTMModel (2)                               [32, 64]             [32, 64]             (recursive)          True\n",
       "│    │    └─LSTMModel (3)                               [32, 64]             [32, 64]             (recursive)          True\n",
       "│    └─Embeddingtable (embedding_layer)                 [32]                 [32, 32]             (recursive)          True\n",
       "│    │    └─Embedding (embedding_layer)                 [32]                 [32, 32]             (recursive)          True\n",
       "│    └─ModuleList (layer_of_lstms)                      --                   --                   (recursive)          True\n",
       "│    │    └─LSTMModel (0)                               [32, 32]             [32, 64]             (recursive)          True\n",
       "│    │    └─LSTMModel (1)                               [32, 64]             [32, 64]             (recursive)          True\n",
       "│    │    └─LSTMModel (2)                               [32, 64]             [32, 64]             (recursive)          True\n",
       "│    │    └─LSTMModel (3)                               [32, 64]             [32, 64]             (recursive)          True\n",
       "│    └─Embeddingtable (embedding_layer)                 [32]                 [32, 32]             (recursive)          True\n",
       "│    │    └─Embedding (embedding_layer)                 [32]                 [32, 32]             (recursive)          True\n",
       "│    └─ModuleList (layer_of_lstms)                      --                   --                   (recursive)          True\n",
       "│    │    └─LSTMModel (0)                               [32, 32]             [32, 64]             (recursive)          True\n",
       "│    │    └─LSTMModel (1)                               [32, 64]             [32, 64]             (recursive)          True\n",
       "│    │    └─LSTMModel (2)                               [32, 64]             [32, 64]             (recursive)          True\n",
       "│    │    └─LSTMModel (3)                               [32, 64]             [32, 64]             (recursive)          True\n",
       "│    └─Embeddingtable (embedding_layer)                 [32]                 [32, 32]             (recursive)          True\n",
       "│    │    └─Embedding (embedding_layer)                 [32]                 [32, 32]             (recursive)          True\n",
       "│    └─ModuleList (layer_of_lstms)                      --                   --                   (recursive)          True\n",
       "│    │    └─LSTMModel (0)                               [32, 32]             [32, 64]             (recursive)          True\n",
       "│    │    └─LSTMModel (1)                               [32, 64]             [32, 64]             (recursive)          True\n",
       "│    │    └─LSTMModel (2)                               [32, 64]             [32, 64]             (recursive)          True\n",
       "│    │    └─LSTMModel (3)                               [32, 64]             [32, 64]             (recursive)          True\n",
       "│    └─Embeddingtable (embedding_layer)                 [32]                 [32, 32]             (recursive)          True\n",
       "│    │    └─Embedding (embedding_layer)                 [32]                 [32, 32]             (recursive)          True\n",
       "│    └─ModuleList (layer_of_lstms)                      --                   --                   (recursive)          True\n",
       "│    │    └─LSTMModel (0)                               [32, 32]             [32, 64]             (recursive)          True\n",
       "│    │    └─LSTMModel (1)                               [32, 64]             [32, 64]             (recursive)          True\n",
       "│    │    └─LSTMModel (2)                               [32, 64]             [32, 64]             (recursive)          True\n",
       "│    │    └─LSTMModel (3)                               [32, 64]             [32, 64]             (recursive)          True\n",
       "│    └─Embeddingtable (embedding_layer)                 [32]                 [32, 32]             (recursive)          True\n",
       "│    │    └─Embedding (embedding_layer)                 [32]                 [32, 32]             (recursive)          True\n",
       "│    └─ModuleList (layer_of_lstms)                      --                   --                   (recursive)          True\n",
       "│    │    └─LSTMModel (0)                               [32, 32]             [32, 64]             (recursive)          True\n",
       "│    │    └─LSTMModel (1)                               [32, 64]             [32, 64]             (recursive)          True\n",
       "│    │    └─LSTMModel (2)                               [32, 64]             [32, 64]             (recursive)          True\n",
       "│    │    └─LSTMModel (3)                               [32, 64]             [32, 64]             (recursive)          True\n",
       "│    └─Embeddingtable (embedding_layer)                 [32]                 [32, 32]             (recursive)          True\n",
       "│    │    └─Embedding (embedding_layer)                 [32]                 [32, 32]             (recursive)          True\n",
       "│    └─ModuleList (layer_of_lstms)                      --                   --                   (recursive)          True\n",
       "│    │    └─LSTMModel (0)                               [32, 32]             [32, 64]             (recursive)          True\n",
       "│    │    └─LSTMModel (1)                               [32, 64]             [32, 64]             (recursive)          True\n",
       "│    │    └─LSTMModel (2)                               [32, 64]             [32, 64]             (recursive)          True\n",
       "│    │    └─LSTMModel (3)                               [32, 64]             [32, 64]             (recursive)          True\n",
       "│    └─Embeddingtable (embedding_layer)                 [32]                 [32, 32]             (recursive)          True\n",
       "│    │    └─Embedding (embedding_layer)                 [32]                 [32, 32]             (recursive)          True\n",
       "│    └─ModuleList (layer_of_lstms)                      --                   --                   (recursive)          True\n",
       "│    │    └─LSTMModel (0)                               [32, 32]             [32, 64]             (recursive)          True\n",
       "│    │    └─LSTMModel (1)                               [32, 64]             [32, 64]             (recursive)          True\n",
       "│    │    └─LSTMModel (2)                               [32, 64]             [32, 64]             (recursive)          True\n",
       "│    │    └─LSTMModel (3)                               [32, 64]             [32, 64]             (recursive)          True\n",
       "│    └─Embeddingtable (embedding_layer)                 [32]                 [32, 32]             (recursive)          True\n",
       "│    │    └─Embedding (embedding_layer)                 [32]                 [32, 32]             (recursive)          True\n",
       "│    └─ModuleList (layer_of_lstms)                      --                   --                   (recursive)          True\n",
       "│    │    └─LSTMModel (0)                               [32, 32]             [32, 64]             (recursive)          True\n",
       "│    │    └─LSTMModel (1)                               [32, 64]             [32, 64]             (recursive)          True\n",
       "│    │    └─LSTMModel (2)                               [32, 64]             [32, 64]             (recursive)          True\n",
       "│    │    └─LSTMModel (3)                               [32, 64]             [32, 64]             (recursive)          True\n",
       "├─Decoder (decoder)                                     [32, 64]             [32, 32, 9797]       --                   True\n",
       "│    └─Embedding (embedding_layer)                      [32]                 [32, 32]             313,504              True\n",
       "│    └─ModuleList (layer_of_lstms)                      --                   --                   (recursive)          True\n",
       "│    │    └─LSTMModel (0)                               [32, 32]             [32, 64]             24,832               True\n",
       "│    │    └─LSTMModel (1)                               [32, 64]             [32, 64]             33,024               True\n",
       "│    │    └─LSTMModel (2)                               [32, 64]             [32, 64]             33,024               True\n",
       "│    │    └─LSTMModel (3)                               [32, 64]             [32, 64]             33,024               True\n",
       "│    └─Linear (classification_head)                     [32, 64]             [32, 9797]           636,805              True\n",
       "│    └─Embedding (embedding_layer)                      [32]                 [32, 32]             (recursive)          True\n",
       "│    └─ModuleList (layer_of_lstms)                      --                   --                   (recursive)          True\n",
       "│    │    └─LSTMModel (0)                               [32, 32]             [32, 64]             (recursive)          True\n",
       "│    │    └─LSTMModel (1)                               [32, 64]             [32, 64]             (recursive)          True\n",
       "│    │    └─LSTMModel (2)                               [32, 64]             [32, 64]             (recursive)          True\n",
       "│    │    └─LSTMModel (3)                               [32, 64]             [32, 64]             (recursive)          True\n",
       "│    └─Linear (classification_head)                     [32, 64]             [32, 9797]           (recursive)          True\n",
       "│    └─Embedding (embedding_layer)                      [32]                 [32, 32]             (recursive)          True\n",
       "│    └─ModuleList (layer_of_lstms)                      --                   --                   (recursive)          True\n",
       "│    │    └─LSTMModel (0)                               [32, 32]             [32, 64]             (recursive)          True\n",
       "│    │    └─LSTMModel (1)                               [32, 64]             [32, 64]             (recursive)          True\n",
       "│    │    └─LSTMModel (2)                               [32, 64]             [32, 64]             (recursive)          True\n",
       "│    │    └─LSTMModel (3)                               [32, 64]             [32, 64]             (recursive)          True\n",
       "│    └─Linear (classification_head)                     [32, 64]             [32, 9797]           (recursive)          True\n",
       "│    └─Embedding (embedding_layer)                      [32]                 [32, 32]             (recursive)          True\n",
       "│    └─ModuleList (layer_of_lstms)                      --                   --                   (recursive)          True\n",
       "│    │    └─LSTMModel (0)                               [32, 32]             [32, 64]             (recursive)          True\n",
       "│    │    └─LSTMModel (1)                               [32, 64]             [32, 64]             (recursive)          True\n",
       "│    │    └─LSTMModel (2)                               [32, 64]             [32, 64]             (recursive)          True\n",
       "│    │    └─LSTMModel (3)                               [32, 64]             [32, 64]             (recursive)          True\n",
       "│    └─Linear (classification_head)                     [32, 64]             [32, 9797]           (recursive)          True\n",
       "│    └─Embedding (embedding_layer)                      [32]                 [32, 32]             (recursive)          True\n",
       "│    └─ModuleList (layer_of_lstms)                      --                   --                   (recursive)          True\n",
       "│    │    └─LSTMModel (0)                               [32, 32]             [32, 64]             (recursive)          True\n",
       "│    │    └─LSTMModel (1)                               [32, 64]             [32, 64]             (recursive)          True\n",
       "│    │    └─LSTMModel (2)                               [32, 64]             [32, 64]             (recursive)          True\n",
       "│    │    └─LSTMModel (3)                               [32, 64]             [32, 64]             (recursive)          True\n",
       "│    └─Linear (classification_head)                     [32, 64]             [32, 9797]           (recursive)          True\n",
       "│    └─Embedding (embedding_layer)                      [32]                 [32, 32]             (recursive)          True\n",
       "│    └─ModuleList (layer_of_lstms)                      --                   --                   (recursive)          True\n",
       "│    │    └─LSTMModel (0)                               [32, 32]             [32, 64]             (recursive)          True\n",
       "│    │    └─LSTMModel (1)                               [32, 64]             [32, 64]             (recursive)          True\n",
       "│    │    └─LSTMModel (2)                               [32, 64]             [32, 64]             (recursive)          True\n",
       "│    │    └─LSTMModel (3)                               [32, 64]             [32, 64]             (recursive)          True\n",
       "│    └─Linear (classification_head)                     [32, 64]             [32, 9797]           (recursive)          True\n",
       "│    └─Embedding (embedding_layer)                      [32]                 [32, 32]             (recursive)          True\n",
       "│    └─ModuleList (layer_of_lstms)                      --                   --                   (recursive)          True\n",
       "│    │    └─LSTMModel (0)                               [32, 32]             [32, 64]             (recursive)          True\n",
       "│    │    └─LSTMModel (1)                               [32, 64]             [32, 64]             (recursive)          True\n",
       "│    │    └─LSTMModel (2)                               [32, 64]             [32, 64]             (recursive)          True\n",
       "│    │    └─LSTMModel (3)                               [32, 64]             [32, 64]             (recursive)          True\n",
       "│    └─Linear (classification_head)                     [32, 64]             [32, 9797]           (recursive)          True\n",
       "│    └─Embedding (embedding_layer)                      [32]                 [32, 32]             (recursive)          True\n",
       "│    └─ModuleList (layer_of_lstms)                      --                   --                   (recursive)          True\n",
       "│    │    └─LSTMModel (0)                               [32, 32]             [32, 64]             (recursive)          True\n",
       "│    │    └─LSTMModel (1)                               [32, 64]             [32, 64]             (recursive)          True\n",
       "│    │    └─LSTMModel (2)                               [32, 64]             [32, 64]             (recursive)          True\n",
       "│    │    └─LSTMModel (3)                               [32, 64]             [32, 64]             (recursive)          True\n",
       "│    └─Linear (classification_head)                     [32, 64]             [32, 9797]           (recursive)          True\n",
       "│    └─Embedding (embedding_layer)                      [32]                 [32, 32]             (recursive)          True\n",
       "│    └─ModuleList (layer_of_lstms)                      --                   --                   (recursive)          True\n",
       "│    │    └─LSTMModel (0)                               [32, 32]             [32, 64]             (recursive)          True\n",
       "│    │    └─LSTMModel (1)                               [32, 64]             [32, 64]             (recursive)          True\n",
       "│    │    └─LSTMModel (2)                               [32, 64]             [32, 64]             (recursive)          True\n",
       "│    │    └─LSTMModel (3)                               [32, 64]             [32, 64]             (recursive)          True\n",
       "│    └─Linear (classification_head)                     [32, 64]             [32, 9797]           (recursive)          True\n",
       "│    └─Embedding (embedding_layer)                      [32]                 [32, 32]             (recursive)          True\n",
       "│    └─ModuleList (layer_of_lstms)                      --                   --                   (recursive)          True\n",
       "│    │    └─LSTMModel (0)                               [32, 32]             [32, 64]             (recursive)          True\n",
       "│    │    └─LSTMModel (1)                               [32, 64]             [32, 64]             (recursive)          True\n",
       "│    │    └─LSTMModel (2)                               [32, 64]             [32, 64]             (recursive)          True\n",
       "│    │    └─LSTMModel (3)                               [32, 64]             [32, 64]             (recursive)          True\n",
       "│    └─Linear (classification_head)                     [32, 64]             [32, 9797]           (recursive)          True\n",
       "│    └─Embedding (embedding_layer)                      [32]                 [32, 32]             (recursive)          True\n",
       "│    └─ModuleList (layer_of_lstms)                      --                   --                   (recursive)          True\n",
       "│    │    └─LSTMModel (0)                               [32, 32]             [32, 64]             (recursive)          True\n",
       "│    │    └─LSTMModel (1)                               [32, 64]             [32, 64]             (recursive)          True\n",
       "│    │    └─LSTMModel (2)                               [32, 64]             [32, 64]             (recursive)          True\n",
       "│    │    └─LSTMModel (3)                               [32, 64]             [32, 64]             (recursive)          True\n",
       "│    └─Linear (classification_head)                     [32, 64]             [32, 9797]           (recursive)          True\n",
       "│    └─Embedding (embedding_layer)                      [32]                 [32, 32]             (recursive)          True\n",
       "│    └─ModuleList (layer_of_lstms)                      --                   --                   (recursive)          True\n",
       "│    │    └─LSTMModel (0)                               [32, 32]             [32, 64]             (recursive)          True\n",
       "│    │    └─LSTMModel (1)                               [32, 64]             [32, 64]             (recursive)          True\n",
       "│    │    └─LSTMModel (2)                               [32, 64]             [32, 64]             (recursive)          True\n",
       "│    │    └─LSTMModel (3)                               [32, 64]             [32, 64]             (recursive)          True\n",
       "│    └─Linear (classification_head)                     [32, 64]             [32, 9797]           (recursive)          True\n",
       "│    └─Embedding (embedding_layer)                      [32]                 [32, 32]             (recursive)          True\n",
       "│    └─ModuleList (layer_of_lstms)                      --                   --                   (recursive)          True\n",
       "│    │    └─LSTMModel (0)                               [32, 32]             [32, 64]             (recursive)          True\n",
       "│    │    └─LSTMModel (1)                               [32, 64]             [32, 64]             (recursive)          True\n",
       "│    │    └─LSTMModel (2)                               [32, 64]             [32, 64]             (recursive)          True\n",
       "│    │    └─LSTMModel (3)                               [32, 64]             [32, 64]             (recursive)          True\n",
       "│    └─Linear (classification_head)                     [32, 64]             [32, 9797]           (recursive)          True\n",
       "│    └─Embedding (embedding_layer)                      [32]                 [32, 32]             (recursive)          True\n",
       "│    └─ModuleList (layer_of_lstms)                      --                   --                   (recursive)          True\n",
       "│    │    └─LSTMModel (0)                               [32, 32]             [32, 64]             (recursive)          True\n",
       "│    │    └─LSTMModel (1)                               [32, 64]             [32, 64]             (recursive)          True\n",
       "│    │    └─LSTMModel (2)                               [32, 64]             [32, 64]             (recursive)          True\n",
       "│    │    └─LSTMModel (3)                               [32, 64]             [32, 64]             (recursive)          True\n",
       "│    └─Linear (classification_head)                     [32, 64]             [32, 9797]           (recursive)          True\n",
       "│    └─Embedding (embedding_layer)                      [32]                 [32, 32]             (recursive)          True\n",
       "│    └─ModuleList (layer_of_lstms)                      --                   --                   (recursive)          True\n",
       "│    │    └─LSTMModel (0)                               [32, 32]             [32, 64]             (recursive)          True\n",
       "│    │    └─LSTMModel (1)                               [32, 64]             [32, 64]             (recursive)          True\n",
       "│    │    └─LSTMModel (2)                               [32, 64]             [32, 64]             (recursive)          True\n",
       "│    │    └─LSTMModel (3)                               [32, 64]             [32, 64]             (recursive)          True\n",
       "│    └─Linear (classification_head)                     [32, 64]             [32, 9797]           (recursive)          True\n",
       "│    └─Embedding (embedding_layer)                      [32]                 [32, 32]             (recursive)          True\n",
       "│    └─ModuleList (layer_of_lstms)                      --                   --                   (recursive)          True\n",
       "│    │    └─LSTMModel (0)                               [32, 32]             [32, 64]             (recursive)          True\n",
       "│    │    └─LSTMModel (1)                               [32, 64]             [32, 64]             (recursive)          True\n",
       "│    │    └─LSTMModel (2)                               [32, 64]             [32, 64]             (recursive)          True\n",
       "│    │    └─LSTMModel (3)                               [32, 64]             [32, 64]             (recursive)          True\n",
       "│    └─Linear (classification_head)                     [32, 64]             [32, 9797]           (recursive)          True\n",
       "│    └─Embedding (embedding_layer)                      [32]                 [32, 32]             (recursive)          True\n",
       "│    └─ModuleList (layer_of_lstms)                      --                   --                   (recursive)          True\n",
       "│    │    └─LSTMModel (0)                               [32, 32]             [32, 64]             (recursive)          True\n",
       "│    │    └─LSTMModel (1)                               [32, 64]             [32, 64]             (recursive)          True\n",
       "│    │    └─LSTMModel (2)                               [32, 64]             [32, 64]             (recursive)          True\n",
       "│    │    └─LSTMModel (3)                               [32, 64]             [32, 64]             (recursive)          True\n",
       "│    └─Linear (classification_head)                     [32, 64]             [32, 9797]           (recursive)          True\n",
       "│    └─Embedding (embedding_layer)                      [32]                 [32, 32]             (recursive)          True\n",
       "│    └─ModuleList (layer_of_lstms)                      --                   --                   (recursive)          True\n",
       "│    │    └─LSTMModel (0)                               [32, 32]             [32, 64]             (recursive)          True\n",
       "│    │    └─LSTMModel (1)                               [32, 64]             [32, 64]             (recursive)          True\n",
       "│    │    └─LSTMModel (2)                               [32, 64]             [32, 64]             (recursive)          True\n",
       "│    │    └─LSTMModel (3)                               [32, 64]             [32, 64]             (recursive)          True\n",
       "│    └─Linear (classification_head)                     [32, 64]             [32, 9797]           (recursive)          True\n",
       "│    └─Embedding (embedding_layer)                      [32]                 [32, 32]             (recursive)          True\n",
       "│    └─ModuleList (layer_of_lstms)                      --                   --                   (recursive)          True\n",
       "│    │    └─LSTMModel (0)                               [32, 32]             [32, 64]             (recursive)          True\n",
       "│    │    └─LSTMModel (1)                               [32, 64]             [32, 64]             (recursive)          True\n",
       "│    │    └─LSTMModel (2)                               [32, 64]             [32, 64]             (recursive)          True\n",
       "│    │    └─LSTMModel (3)                               [32, 64]             [32, 64]             (recursive)          True\n",
       "│    └─Linear (classification_head)                     [32, 64]             [32, 9797]           (recursive)          True\n",
       "│    └─Embedding (embedding_layer)                      [32]                 [32, 32]             (recursive)          True\n",
       "│    └─ModuleList (layer_of_lstms)                      --                   --                   (recursive)          True\n",
       "│    │    └─LSTMModel (0)                               [32, 32]             [32, 64]             (recursive)          True\n",
       "│    │    └─LSTMModel (1)                               [32, 64]             [32, 64]             (recursive)          True\n",
       "│    │    └─LSTMModel (2)                               [32, 64]             [32, 64]             (recursive)          True\n",
       "│    │    └─LSTMModel (3)                               [32, 64]             [32, 64]             (recursive)          True\n",
       "│    └─Linear (classification_head)                     [32, 64]             [32, 9797]           (recursive)          True\n",
       "│    └─Embedding (embedding_layer)                      [32]                 [32, 32]             (recursive)          True\n",
       "│    └─ModuleList (layer_of_lstms)                      --                   --                   (recursive)          True\n",
       "│    │    └─LSTMModel (0)                               [32, 32]             [32, 64]             (recursive)          True\n",
       "│    │    └─LSTMModel (1)                               [32, 64]             [32, 64]             (recursive)          True\n",
       "│    │    └─LSTMModel (2)                               [32, 64]             [32, 64]             (recursive)          True\n",
       "│    │    └─LSTMModel (3)                               [32, 64]             [32, 64]             (recursive)          True\n",
       "│    └─Linear (classification_head)                     [32, 64]             [32, 9797]           (recursive)          True\n",
       "│    └─Embedding (embedding_layer)                      [32]                 [32, 32]             (recursive)          True\n",
       "│    └─ModuleList (layer_of_lstms)                      --                   --                   (recursive)          True\n",
       "│    │    └─LSTMModel (0)                               [32, 32]             [32, 64]             (recursive)          True\n",
       "│    │    └─LSTMModel (1)                               [32, 64]             [32, 64]             (recursive)          True\n",
       "│    │    └─LSTMModel (2)                               [32, 64]             [32, 64]             (recursive)          True\n",
       "│    │    └─LSTMModel (3)                               [32, 64]             [32, 64]             (recursive)          True\n",
       "│    └─Linear (classification_head)                     [32, 64]             [32, 9797]           (recursive)          True\n",
       "│    └─Embedding (embedding_layer)                      [32]                 [32, 32]             (recursive)          True\n",
       "│    └─ModuleList (layer_of_lstms)                      --                   --                   (recursive)          True\n",
       "│    │    └─LSTMModel (0)                               [32, 32]             [32, 64]             (recursive)          True\n",
       "│    │    └─LSTMModel (1)                               [32, 64]             [32, 64]             (recursive)          True\n",
       "│    │    └─LSTMModel (2)                               [32, 64]             [32, 64]             (recursive)          True\n",
       "│    │    └─LSTMModel (3)                               [32, 64]             [32, 64]             (recursive)          True\n",
       "│    └─Linear (classification_head)                     [32, 64]             [32, 9797]           (recursive)          True\n",
       "│    └─Embedding (embedding_layer)                      [32]                 [32, 32]             (recursive)          True\n",
       "│    └─ModuleList (layer_of_lstms)                      --                   --                   (recursive)          True\n",
       "│    │    └─LSTMModel (0)                               [32, 32]             [32, 64]             (recursive)          True\n",
       "│    │    └─LSTMModel (1)                               [32, 64]             [32, 64]             (recursive)          True\n",
       "│    │    └─LSTMModel (2)                               [32, 64]             [32, 64]             (recursive)          True\n",
       "│    │    └─LSTMModel (3)                               [32, 64]             [32, 64]             (recursive)          True\n",
       "│    └─Linear (classification_head)                     [32, 64]             [32, 9797]           (recursive)          True\n",
       "│    └─Embedding (embedding_layer)                      [32]                 [32, 32]             (recursive)          True\n",
       "│    └─ModuleList (layer_of_lstms)                      --                   --                   (recursive)          True\n",
       "│    │    └─LSTMModel (0)                               [32, 32]             [32, 64]             (recursive)          True\n",
       "│    │    └─LSTMModel (1)                               [32, 64]             [32, 64]             (recursive)          True\n",
       "│    │    └─LSTMModel (2)                               [32, 64]             [32, 64]             (recursive)          True\n",
       "│    │    └─LSTMModel (3)                               [32, 64]             [32, 64]             (recursive)          True\n",
       "│    └─Linear (classification_head)                     [32, 64]             [32, 9797]           (recursive)          True\n",
       "│    └─Embedding (embedding_layer)                      [32]                 [32, 32]             (recursive)          True\n",
       "│    └─ModuleList (layer_of_lstms)                      --                   --                   (recursive)          True\n",
       "│    │    └─LSTMModel (0)                               [32, 32]             [32, 64]             (recursive)          True\n",
       "│    │    └─LSTMModel (1)                               [32, 64]             [32, 64]             (recursive)          True\n",
       "│    │    └─LSTMModel (2)                               [32, 64]             [32, 64]             (recursive)          True\n",
       "│    │    └─LSTMModel (3)                               [32, 64]             [32, 64]             (recursive)          True\n",
       "│    └─Linear (classification_head)                     [32, 64]             [32, 9797]           (recursive)          True\n",
       "│    └─Embedding (embedding_layer)                      [32]                 [32, 32]             (recursive)          True\n",
       "│    └─ModuleList (layer_of_lstms)                      --                   --                   (recursive)          True\n",
       "│    │    └─LSTMModel (0)                               [32, 32]             [32, 64]             (recursive)          True\n",
       "│    │    └─LSTMModel (1)                               [32, 64]             [32, 64]             (recursive)          True\n",
       "│    │    └─LSTMModel (2)                               [32, 64]             [32, 64]             (recursive)          True\n",
       "│    │    └─LSTMModel (3)                               [32, 64]             [32, 64]             (recursive)          True\n",
       "│    └─Linear (classification_head)                     [32, 64]             [32, 9797]           (recursive)          True\n",
       "│    └─Embedding (embedding_layer)                      [32]                 [32, 32]             (recursive)          True\n",
       "│    └─ModuleList (layer_of_lstms)                      --                   --                   (recursive)          True\n",
       "│    │    └─LSTMModel (0)                               [32, 32]             [32, 64]             (recursive)          True\n",
       "│    │    └─LSTMModel (1)                               [32, 64]             [32, 64]             (recursive)          True\n",
       "│    │    └─LSTMModel (2)                               [32, 64]             [32, 64]             (recursive)          True\n",
       "│    │    └─LSTMModel (3)                               [32, 64]             [32, 64]             (recursive)          True\n",
       "│    └─Linear (classification_head)                     [32, 64]             [32, 9797]           (recursive)          True\n",
       "│    └─Embedding (embedding_layer)                      [32]                 [32, 32]             (recursive)          True\n",
       "│    └─ModuleList (layer_of_lstms)                      --                   --                   (recursive)          True\n",
       "│    │    └─LSTMModel (0)                               [32, 32]             [32, 64]             (recursive)          True\n",
       "│    │    └─LSTMModel (1)                               [32, 64]             [32, 64]             (recursive)          True\n",
       "│    │    └─LSTMModel (2)                               [32, 64]             [32, 64]             (recursive)          True\n",
       "│    │    └─LSTMModel (3)                               [32, 64]             [32, 64]             (recursive)          True\n",
       "│    └─Linear (classification_head)                     [32, 64]             [32, 9797]           (recursive)          True\n",
       "│    └─Embedding (embedding_layer)                      [32]                 [32, 32]             (recursive)          True\n",
       "│    └─ModuleList (layer_of_lstms)                      --                   --                   (recursive)          True\n",
       "│    │    └─LSTMModel (0)                               [32, 32]             [32, 64]             (recursive)          True\n",
       "│    │    └─LSTMModel (1)                               [32, 64]             [32, 64]             (recursive)          True\n",
       "│    │    └─LSTMModel (2)                               [32, 64]             [32, 64]             (recursive)          True\n",
       "│    │    └─LSTMModel (3)                               [32, 64]             [32, 64]             (recursive)          True\n",
       "│    └─Linear (classification_head)                     [32, 64]             [32, 9797]           (recursive)          True\n",
       "│    └─Embedding (embedding_layer)                      [32]                 [32, 32]             (recursive)          True\n",
       "│    └─ModuleList (layer_of_lstms)                      --                   --                   (recursive)          True\n",
       "│    │    └─LSTMModel (0)                               [32, 32]             [32, 64]             (recursive)          True\n",
       "│    │    └─LSTMModel (1)                               [32, 64]             [32, 64]             (recursive)          True\n",
       "│    │    └─LSTMModel (2)                               [32, 64]             [32, 64]             (recursive)          True\n",
       "│    │    └─LSTMModel (3)                               [32, 64]             [32, 64]             (recursive)          True\n",
       "│    └─Linear (classification_head)                     [32, 64]             [32, 9797]           (recursive)          True\n",
       "│    └─Embedding (embedding_layer)                      [32]                 [32, 32]             (recursive)          True\n",
       "│    └─ModuleList (layer_of_lstms)                      --                   --                   (recursive)          True\n",
       "│    │    └─LSTMModel (0)                               [32, 32]             [32, 64]             (recursive)          True\n",
       "│    │    └─LSTMModel (1)                               [32, 64]             [32, 64]             (recursive)          True\n",
       "│    │    └─LSTMModel (2)                               [32, 64]             [32, 64]             (recursive)          True\n",
       "│    │    └─LSTMModel (3)                               [32, 64]             [32, 64]             (recursive)          True\n",
       "│    └─Linear (classification_head)                     [32, 64]             [32, 9797]           (recursive)          True\n",
       "=======================================================================================================================================\n",
       "Total params: 1,795,461\n",
       "Trainable params: 1,795,461\n",
       "Non-trainable params: 0\n",
       "Total mult-adds (G): 1.84\n",
       "=======================================================================================================================================\n",
       "Input size (MB): 0.02\n",
       "Forward/backward pass size (MB): 97.56\n",
       "Params size (MB): 7.18\n",
       "Estimated Total Size (MB): 104.76\n",
       "======================================================================================================================================="
      ]
     },
     "execution_count": 32,
     "metadata": {},
     "output_type": "execute_result"
    }
   ],
   "source": [
    "from torchinfo import summary\n",
    "\n",
    "summary(model=model,\n",
    "        input_data=sample_batch,\n",
    "        col_names=[\"input_size\",\"output_size\",\"num_params\",\"trainable\"],\n",
    "        row_settings=[\"var_names\"],\n",
    "        col_width=20,\n",
    "        device=ModelArgs.device)"
   ]
  },
  {
   "cell_type": "code",
   "execution_count": 33,
   "id": "80b8cebe",
   "metadata": {},
   "outputs": [],
   "source": [
    "optimizer = torch.optim.Adam(model.parameters(),lr=ModelArgs.max_lr)\n",
    "criterion = nn.CrossEntropyLoss()\n",
    "lr_scheduler = torch.optim.lr_scheduler.ReduceLROnPlateau(optimizer=optimizer,\n",
    "                                                          mode=\"min\",\n",
    "                                                          factor=0.1,\n",
    "                                                          patience=2)"
   ]
  },
  {
   "cell_type": "code",
   "execution_count": null,
   "id": "325c81c0",
   "metadata": {},
   "outputs": [
    {
     "name": "stderr",
     "output_type": "stream",
     "text": [
      "Training: 100%|██████████| 906/906 [06:10<00:00,  2.45it/s, loss=2.4678]\n",
      "Evaluation: 100%|██████████| 31/31 [00:06<00:00,  4.96it/s, loss=2.4686]\n"
     ]
    },
    {
     "name": "stdout",
     "output_type": "stream",
     "text": [
      "EPOCH : 0/500 \n",
      " Train Loss : 3.9190 \n",
      " Val Loss : 2.4799 \n",
      " Train Acc : 0.3320 \n",
      " Val Acc : 0.3482\n",
      "\n",
      "\n"
     ]
    },
    {
     "name": "stderr",
     "output_type": "stream",
     "text": [
      "Training: 100%|██████████| 906/906 [1:02:55<00:00,  4.17s/it, loss=2.4177]   \n",
      "Evaluation: 100%|██████████| 31/31 [00:03<00:00,  8.81it/s, loss=2.4421]\n"
     ]
    },
    {
     "name": "stdout",
     "output_type": "stream",
     "text": [
      "EPOCH : 1/500 \n",
      " Train Loss : 2.4435 \n",
      " Val Loss : 2.4253 \n",
      " Train Acc : 0.3514 \n",
      " Val Acc : 0.3488\n",
      "\n",
      "\n"
     ]
    },
    {
     "name": "stderr",
     "output_type": "stream",
     "text": [
      "Training: 100%|██████████| 906/906 [04:46<00:00,  3.16it/s, loss=2.4089]\n",
      "Evaluation: 100%|██████████| 31/31 [00:03<00:00,  8.45it/s, loss=2.4316]\n"
     ]
    },
    {
     "name": "stdout",
     "output_type": "stream",
     "text": [
      "EPOCH : 2/500 \n",
      " Train Loss : 2.4198 \n",
      " Val Loss : 2.4146 \n",
      " Train Acc : 0.3514 \n",
      " Val Acc : 0.3486\n",
      "\n",
      "\n"
     ]
    },
    {
     "name": "stderr",
     "output_type": "stream",
     "text": [
      "Training: 100%|██████████| 906/906 [06:29<00:00,  2.33it/s, loss=2.4191]\n",
      "Evaluation: 100%|██████████| 31/31 [00:03<00:00,  9.29it/s, loss=2.3971]\n"
     ]
    },
    {
     "name": "stdout",
     "output_type": "stream",
     "text": [
      "EPOCH : 3/500 \n",
      " Train Loss : 2.4138 \n",
      " Val Loss : 2.4112 \n",
      " Train Acc : 0.3514 \n",
      " Val Acc : 0.3486\n",
      "\n",
      "\n"
     ]
    },
    {
     "name": "stderr",
     "output_type": "stream",
     "text": [
      "Training: 100%|██████████| 906/906 [04:28<00:00,  3.37it/s, loss=2.4002]\n",
      "Evaluation: 100%|██████████| 31/31 [00:03<00:00,  9.00it/s, loss=2.4195]\n"
     ]
    },
    {
     "name": "stdout",
     "output_type": "stream",
     "text": [
      "EPOCH : 4/500 \n",
      " Train Loss : 2.4112 \n",
      " Val Loss : 2.4090 \n",
      " Train Acc : 0.3514 \n",
      " Val Acc : 0.3491\n",
      "\n",
      "\n"
     ]
    },
    {
     "name": "stderr",
     "output_type": "stream",
     "text": [
      "Training: 100%|██████████| 906/906 [04:41<00:00,  3.22it/s, loss=2.4570]\n",
      "Evaluation: 100%|██████████| 31/31 [00:03<00:00,  8.64it/s, loss=2.4185]\n"
     ]
    },
    {
     "name": "stdout",
     "output_type": "stream",
     "text": [
      "EPOCH : 5/500 \n",
      " Train Loss : 2.4099 \n",
      " Val Loss : 2.4084 \n",
      " Train Acc : 0.3514 \n",
      " Val Acc : 0.3487\n",
      "\n",
      "\n"
     ]
    },
    {
     "name": "stderr",
     "output_type": "stream",
     "text": [
      "Training: 100%|██████████| 906/906 [04:36<00:00,  3.27it/s, loss=2.3789]\n",
      "Evaluation: 100%|██████████| 31/31 [00:03<00:00,  8.56it/s, loss=2.4365]\n"
     ]
    },
    {
     "name": "stdout",
     "output_type": "stream",
     "text": [
      "EPOCH : 6/500 \n",
      " Train Loss : 2.4092 \n",
      " Val Loss : 2.4094 \n",
      " Train Acc : 0.3514 \n",
      " Val Acc : 0.3482\n",
      "\n",
      "\n"
     ]
    },
    {
     "name": "stderr",
     "output_type": "stream",
     "text": [
      "Training: 100%|██████████| 906/906 [04:34<00:00,  3.30it/s, loss=2.4795]\n",
      "Evaluation: 100%|██████████| 31/31 [00:03<00:00,  8.29it/s, loss=2.4015]\n"
     ]
    },
    {
     "name": "stdout",
     "output_type": "stream",
     "text": [
      "EPOCH : 7/500 \n",
      " Train Loss : 2.4087 \n",
      " Val Loss : 2.4079 \n",
      " Train Acc : 0.3514 \n",
      " Val Acc : 0.3485\n",
      "\n",
      "\n"
     ]
    },
    {
     "name": "stderr",
     "output_type": "stream",
     "text": [
      "Training: 100%|██████████| 906/906 [04:34<00:00,  3.30it/s, loss=2.3928]\n",
      "Evaluation: 100%|██████████| 31/31 [00:03<00:00,  8.14it/s, loss=2.4184]\n"
     ]
    },
    {
     "name": "stdout",
     "output_type": "stream",
     "text": [
      "EPOCH : 8/500 \n",
      " Train Loss : 2.4083 \n",
      " Val Loss : 2.4082 \n",
      " Train Acc : 0.3514 \n",
      " Val Acc : 0.3485\n",
      "\n",
      "\n"
     ]
    },
    {
     "name": "stderr",
     "output_type": "stream",
     "text": [
      "Training: 100%|██████████| 906/906 [04:41<00:00,  3.22it/s, loss=2.4115]\n",
      "Evaluation: 100%|██████████| 31/31 [00:03<00:00,  8.95it/s, loss=2.4054]\n"
     ]
    },
    {
     "name": "stdout",
     "output_type": "stream",
     "text": [
      "EPOCH : 9/500 \n",
      " Train Loss : 2.4081 \n",
      " Val Loss : 2.4080 \n",
      " Train Acc : 0.3514 \n",
      " Val Acc : 0.3486\n",
      "\n",
      "\n"
     ]
    },
    {
     "name": "stderr",
     "output_type": "stream",
     "text": [
      "Training: 100%|██████████| 906/906 [04:32<00:00,  3.33it/s, loss=2.3766]\n",
      "Evaluation: 100%|██████████| 31/31 [00:03<00:00,  9.19it/s, loss=2.4060]\n"
     ]
    },
    {
     "name": "stdout",
     "output_type": "stream",
     "text": [
      "EPOCH : 10/500 \n",
      " Train Loss : 2.4080 \n",
      " Val Loss : 2.4070 \n",
      " Train Acc : 0.3514 \n",
      " Val Acc : 0.3487\n",
      "\n",
      "\n"
     ]
    },
    {
     "name": "stderr",
     "output_type": "stream",
     "text": [
      "Training: 100%|██████████| 906/906 [04:26<00:00,  3.40it/s, loss=2.4152]\n",
      "Evaluation: 100%|██████████| 31/31 [00:03<00:00,  8.17it/s, loss=2.4042]\n"
     ]
    },
    {
     "name": "stdout",
     "output_type": "stream",
     "text": [
      "EPOCH : 11/500 \n",
      " Train Loss : 2.4079 \n",
      " Val Loss : 2.4074 \n",
      " Train Acc : 0.3514 \n",
      " Val Acc : 0.3485\n",
      "\n",
      "\n"
     ]
    },
    {
     "name": "stderr",
     "output_type": "stream",
     "text": [
      "Training: 100%|██████████| 906/906 [04:35<00:00,  3.29it/s, loss=2.3944]\n",
      "Evaluation: 100%|██████████| 31/31 [00:03<00:00,  7.87it/s, loss=2.3907]\n"
     ]
    },
    {
     "name": "stdout",
     "output_type": "stream",
     "text": [
      "EPOCH : 12/500 \n",
      " Train Loss : 2.4079 \n",
      " Val Loss : 2.4086 \n",
      " Train Acc : 0.3514 \n",
      " Val Acc : 0.3481\n",
      "\n",
      "\n"
     ]
    },
    {
     "name": "stderr",
     "output_type": "stream",
     "text": [
      "Training: 100%|██████████| 906/906 [04:41<00:00,  3.22it/s, loss=2.4041]\n",
      "Evaluation: 100%|██████████| 31/31 [00:03<00:00,  9.43it/s, loss=2.4054]\n"
     ]
    },
    {
     "name": "stdout",
     "output_type": "stream",
     "text": [
      "EPOCH : 13/500 \n",
      " Train Loss : 2.4078 \n",
      " Val Loss : 2.4079 \n",
      " Train Acc : 0.3514 \n",
      " Val Acc : 0.3485\n",
      "\n",
      "\n"
     ]
    },
    {
     "name": "stderr",
     "output_type": "stream",
     "text": [
      "Training: 100%|██████████| 906/906 [04:33<00:00,  3.31it/s, loss=2.4047]\n",
      "Evaluation: 100%|██████████| 31/31 [00:03<00:00,  9.37it/s, loss=2.3450]\n"
     ]
    },
    {
     "name": "stdout",
     "output_type": "stream",
     "text": [
      "EPOCH : 14/500 \n",
      " Train Loss : 2.4076 \n",
      " Val Loss : 2.4060 \n",
      " Train Acc : 0.3514 \n",
      " Val Acc : 0.3491\n",
      "\n",
      "\n"
     ]
    },
    {
     "name": "stderr",
     "output_type": "stream",
     "text": [
      "Training: 100%|██████████| 906/906 [04:44<00:00,  3.18it/s, loss=2.3832]\n",
      "Evaluation: 100%|██████████| 31/31 [00:03<00:00,  8.72it/s, loss=2.3906]\n"
     ]
    },
    {
     "name": "stdout",
     "output_type": "stream",
     "text": [
      "EPOCH : 15/500 \n",
      " Train Loss : 2.4076 \n",
      " Val Loss : 2.4059 \n",
      " Train Acc : 0.3514 \n",
      " Val Acc : 0.3492\n",
      "\n",
      "\n"
     ]
    },
    {
     "name": "stderr",
     "output_type": "stream",
     "text": [
      "Training: 100%|██████████| 906/906 [05:37<00:00,  2.68it/s, loss=2.4236]\n",
      "Evaluation: 100%|██████████| 31/31 [00:03<00:00,  8.29it/s, loss=2.4084]\n"
     ]
    },
    {
     "name": "stdout",
     "output_type": "stream",
     "text": [
      "EPOCH : 16/500 \n",
      " Train Loss : 2.4076 \n",
      " Val Loss : 2.4073 \n",
      " Train Acc : 0.3514 \n",
      " Val Acc : 0.3488\n",
      "\n",
      "\n"
     ]
    },
    {
     "name": "stderr",
     "output_type": "stream",
     "text": [
      "Training: 100%|██████████| 906/906 [04:32<00:00,  3.32it/s, loss=2.3695]\n",
      "Evaluation: 100%|██████████| 31/31 [00:03<00:00,  9.16it/s, loss=2.4041]\n"
     ]
    },
    {
     "name": "stdout",
     "output_type": "stream",
     "text": [
      "EPOCH : 17/500 \n",
      " Train Loss : 2.4076 \n",
      " Val Loss : 2.4063 \n",
      " Train Acc : 0.3514 \n",
      " Val Acc : 0.3489\n",
      "\n",
      "\n"
     ]
    },
    {
     "name": "stderr",
     "output_type": "stream",
     "text": [
      "Training: 100%|██████████| 906/906 [04:27<00:00,  3.39it/s, loss=2.4220]\n",
      "Evaluation: 100%|██████████| 31/31 [00:03<00:00,  8.91it/s, loss=2.4001]\n"
     ]
    },
    {
     "name": "stdout",
     "output_type": "stream",
     "text": [
      "EPOCH : 18/500 \n",
      " Train Loss : 2.4076 \n",
      " Val Loss : 2.4070 \n",
      " Train Acc : 0.3514 \n",
      " Val Acc : 0.3487\n",
      "\n",
      "\n"
     ]
    },
    {
     "name": "stderr",
     "output_type": "stream",
     "text": [
      "Training: 100%|██████████| 906/906 [05:34<00:00,  2.71it/s, loss=2.3852]\n",
      "Evaluation: 100%|██████████| 31/31 [00:03<00:00,  8.97it/s, loss=2.4200]\n"
     ]
    },
    {
     "name": "stdout",
     "output_type": "stream",
     "text": [
      "EPOCH : 19/500 \n",
      " Train Loss : 2.4076 \n",
      " Val Loss : 2.4061 \n",
      " Train Acc : 0.3514 \n",
      " Val Acc : 0.3490\n",
      "\n",
      "\n"
     ]
    },
    {
     "name": "stderr",
     "output_type": "stream",
     "text": [
      "Training: 100%|██████████| 906/906 [04:26<00:00,  3.40it/s, loss=2.3704]\n",
      "Evaluation: 100%|██████████| 31/31 [00:03<00:00,  9.36it/s, loss=2.4329]\n"
     ]
    },
    {
     "name": "stdout",
     "output_type": "stream",
     "text": [
      "EPOCH : 20/500 \n",
      " Train Loss : 2.4076 \n",
      " Val Loss : 2.4074 \n",
      " Train Acc : 0.3514 \n",
      " Val Acc : 0.3487\n",
      "\n",
      "\n"
     ]
    },
    {
     "name": "stderr",
     "output_type": "stream",
     "text": [
      "Training: 100%|██████████| 906/906 [06:22<00:00,  2.37it/s, loss=2.4316]\n",
      "Evaluation: 100%|██████████| 31/31 [00:03<00:00,  9.31it/s, loss=2.4343]\n"
     ]
    },
    {
     "name": "stdout",
     "output_type": "stream",
     "text": [
      "EPOCH : 21/500 \n",
      " Train Loss : 2.4076 \n",
      " Val Loss : 2.4059 \n",
      " Train Acc : 0.3514 \n",
      " Val Acc : 0.3487\n",
      "\n",
      "\n"
     ]
    },
    {
     "name": "stderr",
     "output_type": "stream",
     "text": [
      "Training: 100%|██████████| 906/906 [05:32<00:00,  2.73it/s, loss=2.4431]\n",
      "Evaluation: 100%|██████████| 31/31 [00:03<00:00,  9.45it/s, loss=2.4249]\n"
     ]
    },
    {
     "name": "stdout",
     "output_type": "stream",
     "text": [
      "EPOCH : 22/500 \n",
      " Train Loss : 2.4076 \n",
      " Val Loss : 2.4065 \n",
      " Train Acc : 0.3514 \n",
      " Val Acc : 0.3488\n",
      "\n",
      "\n"
     ]
    },
    {
     "name": "stderr",
     "output_type": "stream",
     "text": [
      "Training: 100%|██████████| 906/906 [04:28<00:00,  3.38it/s, loss=2.4147]\n",
      "Evaluation: 100%|██████████| 31/31 [00:03<00:00,  7.78it/s, loss=2.3956]\n"
     ]
    },
    {
     "name": "stdout",
     "output_type": "stream",
     "text": [
      "EPOCH : 23/500 \n",
      " Train Loss : 2.4076 \n",
      " Val Loss : 2.4093 \n",
      " Train Acc : 0.3514 \n",
      " Val Acc : 0.3479\n",
      "\n",
      "\n"
     ]
    },
    {
     "name": "stderr",
     "output_type": "stream",
     "text": [
      "Training: 100%|██████████| 906/906 [04:33<00:00,  3.31it/s, loss=2.4283]\n",
      "Evaluation: 100%|██████████| 31/31 [00:03<00:00, 10.00it/s, loss=2.3923]\n"
     ]
    },
    {
     "name": "stdout",
     "output_type": "stream",
     "text": [
      "EPOCH : 24/500 \n",
      " Train Loss : 2.4076 \n",
      " Val Loss : 2.4087 \n",
      " Train Acc : 0.3514 \n",
      " Val Acc : 0.3482\n",
      "\n",
      "\n"
     ]
    },
    {
     "name": "stderr",
     "output_type": "stream",
     "text": [
      "Training: 100%|██████████| 906/906 [04:29<00:00,  3.36it/s, loss=2.4479]\n",
      "Evaluation: 100%|██████████| 31/31 [00:03<00:00,  9.87it/s, loss=2.3801]\n"
     ]
    },
    {
     "name": "stdout",
     "output_type": "stream",
     "text": [
      "EPOCH : 25/500 \n",
      " Train Loss : 2.4076 \n",
      " Val Loss : 2.4082 \n",
      " Train Acc : 0.3514 \n",
      " Val Acc : 0.3483\n",
      "\n",
      "\n"
     ]
    },
    {
     "name": "stderr",
     "output_type": "stream",
     "text": [
      "Training: 100%|██████████| 906/906 [04:33<00:00,  3.32it/s, loss=2.4211]\n",
      "Evaluation: 100%|██████████| 31/31 [00:03<00:00,  9.24it/s, loss=2.4380]\n"
     ]
    },
    {
     "name": "stdout",
     "output_type": "stream",
     "text": [
      "EPOCH : 26/500 \n",
      " Train Loss : 2.4076 \n",
      " Val Loss : 2.4079 \n",
      " Train Acc : 0.3514 \n",
      " Val Acc : 0.3483\n",
      "\n",
      "\n"
     ]
    },
    {
     "name": "stderr",
     "output_type": "stream",
     "text": [
      "Training: 100%|██████████| 906/906 [04:31<00:00,  3.34it/s, loss=2.3741]\n",
      "Evaluation: 100%|██████████| 31/31 [00:03<00:00,  7.89it/s, loss=2.3789]\n"
     ]
    },
    {
     "name": "stdout",
     "output_type": "stream",
     "text": [
      "EPOCH : 27/500 \n",
      " Train Loss : 2.4076 \n",
      " Val Loss : 2.4068 \n",
      " Train Acc : 0.3514 \n",
      " Val Acc : 0.3489\n",
      "\n",
      "\n"
     ]
    },
    {
     "name": "stderr",
     "output_type": "stream",
     "text": [
      "Training: 100%|██████████| 906/906 [04:31<00:00,  3.34it/s, loss=2.3805]\n",
      "Evaluation: 100%|██████████| 31/31 [00:03<00:00,  9.60it/s, loss=2.4202]\n"
     ]
    },
    {
     "name": "stdout",
     "output_type": "stream",
     "text": [
      "EPOCH : 28/500 \n",
      " Train Loss : 2.4076 \n",
      " Val Loss : 2.4081 \n",
      " Train Acc : 0.3514 \n",
      " Val Acc : 0.3481\n",
      "\n",
      "\n"
     ]
    },
    {
     "name": "stderr",
     "output_type": "stream",
     "text": [
      "Training: 100%|██████████| 906/906 [04:33<00:00,  3.31it/s, loss=2.3811]\n",
      "Evaluation: 100%|██████████| 31/31 [00:03<00:00,  9.83it/s, loss=2.3846]\n"
     ]
    },
    {
     "name": "stdout",
     "output_type": "stream",
     "text": [
      "EPOCH : 29/500 \n",
      " Train Loss : 2.4076 \n",
      " Val Loss : 2.4062 \n",
      " Train Acc : 0.3514 \n",
      " Val Acc : 0.3490\n",
      "\n",
      "\n"
     ]
    },
    {
     "name": "stderr",
     "output_type": "stream",
     "text": [
      "Training: 100%|██████████| 906/906 [04:35<00:00,  3.29it/s, loss=2.4077]\n",
      "Evaluation: 100%|██████████| 31/31 [00:03<00:00,  8.95it/s, loss=2.3731]\n"
     ]
    },
    {
     "name": "stdout",
     "output_type": "stream",
     "text": [
      "EPOCH : 30/500 \n",
      " Train Loss : 2.4076 \n",
      " Val Loss : 2.4072 \n",
      " Train Acc : 0.3514 \n",
      " Val Acc : 0.3487\n",
      "\n",
      "\n"
     ]
    },
    {
     "name": "stderr",
     "output_type": "stream",
     "text": [
      "Training: 100%|██████████| 906/906 [35:37<00:00,  2.36s/it, loss=2.3981]    \n",
      "Evaluation: 100%|██████████| 31/31 [00:03<00:00,  8.72it/s, loss=2.4219]\n"
     ]
    },
    {
     "name": "stdout",
     "output_type": "stream",
     "text": [
      "EPOCH : 31/500 \n",
      " Train Loss : 2.4075 \n",
      " Val Loss : 2.4072 \n",
      " Train Acc : 0.3514 \n",
      " Val Acc : 0.3488\n",
      "\n",
      "\n"
     ]
    },
    {
     "name": "stderr",
     "output_type": "stream",
     "text": [
      "Training: 100%|██████████| 906/906 [07:40<00:00,  1.97it/s, loss=2.4437]\n",
      "Evaluation: 100%|██████████| 31/31 [00:03<00:00,  8.28it/s, loss=2.4238]\n"
     ]
    },
    {
     "name": "stdout",
     "output_type": "stream",
     "text": [
      "EPOCH : 32/500 \n",
      " Train Loss : 2.4076 \n",
      " Val Loss : 2.4074 \n",
      " Train Acc : 0.3514 \n",
      " Val Acc : 0.3484\n",
      "\n",
      "\n"
     ]
    },
    {
     "name": "stderr",
     "output_type": "stream",
     "text": [
      "Training: 100%|██████████| 906/906 [09:40<00:00,  1.56it/s, loss=2.4356]\n",
      "Evaluation: 100%|██████████| 31/31 [00:03<00:00,  8.67it/s, loss=2.4221]\n"
     ]
    },
    {
     "name": "stdout",
     "output_type": "stream",
     "text": [
      "EPOCH : 33/500 \n",
      " Train Loss : 2.4076 \n",
      " Val Loss : 2.4082 \n",
      " Train Acc : 0.3514 \n",
      " Val Acc : 0.3482\n",
      "\n",
      "\n"
     ]
    },
    {
     "name": "stderr",
     "output_type": "stream",
     "text": [
      "Training: 100%|██████████| 906/906 [04:47<00:00,  3.16it/s, loss=2.3640]\n",
      "Evaluation: 100%|██████████| 31/31 [00:03<00:00,  9.43it/s, loss=2.4332]\n"
     ]
    },
    {
     "name": "stdout",
     "output_type": "stream",
     "text": [
      "EPOCH : 34/500 \n",
      " Train Loss : 2.4076 \n",
      " Val Loss : 2.4081 \n",
      " Train Acc : 0.3514 \n",
      " Val Acc : 0.3482\n",
      "\n",
      "\n"
     ]
    },
    {
     "name": "stderr",
     "output_type": "stream",
     "text": [
      "Training: 100%|██████████| 906/906 [08:04<00:00,  1.87it/s, loss=2.4190]\n",
      "Evaluation: 100%|██████████| 31/31 [00:03<00:00,  8.94it/s, loss=2.3353]\n"
     ]
    },
    {
     "name": "stdout",
     "output_type": "stream",
     "text": [
      "EPOCH : 35/500 \n",
      " Train Loss : 2.4076 \n",
      " Val Loss : 2.4073 \n",
      " Train Acc : 0.3514 \n",
      " Val Acc : 0.3486\n",
      "\n",
      "\n"
     ]
    },
    {
     "name": "stderr",
     "output_type": "stream",
     "text": [
      "Training: 100%|██████████| 906/906 [05:01<00:00,  3.00it/s, loss=2.3787]\n",
      "Evaluation: 100%|██████████| 31/31 [00:03<00:00,  8.92it/s, loss=2.4220]\n"
     ]
    },
    {
     "name": "stdout",
     "output_type": "stream",
     "text": [
      "EPOCH : 36/500 \n",
      " Train Loss : 2.4076 \n",
      " Val Loss : 2.4087 \n",
      " Train Acc : 0.3514 \n",
      " Val Acc : 0.3480\n",
      "\n",
      "\n"
     ]
    },
    {
     "name": "stderr",
     "output_type": "stream",
     "text": [
      "Training: 100%|██████████| 906/906 [04:21<00:00,  3.47it/s, loss=2.4369]\n",
      "Evaluation: 100%|██████████| 31/31 [00:03<00:00,  9.68it/s, loss=2.4023]\n"
     ]
    },
    {
     "name": "stdout",
     "output_type": "stream",
     "text": [
      "EPOCH : 37/500 \n",
      " Train Loss : 2.4076 \n",
      " Val Loss : 2.4069 \n",
      " Train Acc : 0.3514 \n",
      " Val Acc : 0.3486\n",
      "\n",
      "\n"
     ]
    },
    {
     "name": "stderr",
     "output_type": "stream",
     "text": [
      "Training: 100%|██████████| 906/906 [05:30<00:00,  2.74it/s, loss=2.4008]\n",
      "Evaluation: 100%|██████████| 31/31 [00:03<00:00,  9.11it/s, loss=2.3896]\n"
     ]
    },
    {
     "name": "stdout",
     "output_type": "stream",
     "text": [
      "EPOCH : 38/500 \n",
      " Train Loss : 2.4076 \n",
      " Val Loss : 2.4081 \n",
      " Train Acc : 0.3514 \n",
      " Val Acc : 0.3483\n",
      "\n",
      "\n"
     ]
    },
    {
     "name": "stderr",
     "output_type": "stream",
     "text": [
      "Training: 100%|██████████| 906/906 [04:22<00:00,  3.46it/s, loss=2.4109]\n",
      "Evaluation: 100%|██████████| 31/31 [00:03<00:00,  8.73it/s, loss=2.3927]\n"
     ]
    },
    {
     "name": "stdout",
     "output_type": "stream",
     "text": [
      "EPOCH : 39/500 \n",
      " Train Loss : 2.4076 \n",
      " Val Loss : 2.4051 \n",
      " Train Acc : 0.3514 \n",
      " Val Acc : 0.3487\n",
      "\n",
      "\n"
     ]
    },
    {
     "name": "stderr",
     "output_type": "stream",
     "text": [
      "Training: 100%|██████████| 906/906 [04:21<00:00,  3.47it/s, loss=2.4160]\n",
      "Evaluation: 100%|██████████| 31/31 [00:03<00:00,  8.94it/s, loss=2.3958]\n"
     ]
    },
    {
     "name": "stdout",
     "output_type": "stream",
     "text": [
      "EPOCH : 40/500 \n",
      " Train Loss : 2.4076 \n",
      " Val Loss : 2.4068 \n",
      " Train Acc : 0.3514 \n",
      " Val Acc : 0.3489\n",
      "\n",
      "\n"
     ]
    },
    {
     "name": "stderr",
     "output_type": "stream",
     "text": [
      "Training: 100%|██████████| 906/906 [05:30<00:00,  2.74it/s, loss=2.3926]\n",
      "Evaluation: 100%|██████████| 31/31 [00:03<00:00,  9.41it/s, loss=2.4008]\n"
     ]
    },
    {
     "name": "stdout",
     "output_type": "stream",
     "text": [
      "EPOCH : 41/500 \n",
      " Train Loss : 2.4076 \n",
      " Val Loss : 2.4069 \n",
      " Train Acc : 0.3514 \n",
      " Val Acc : 0.3488\n",
      "\n",
      "\n"
     ]
    },
    {
     "name": "stderr",
     "output_type": "stream",
     "text": [
      "Training:  90%|████████▉ | 813/906 [08:55<02:24,  1.55s/it, loss=2.4212]"
     ]
    }
   ],
   "source": [
    "train_losses,val_losses,train_accs,val_accs = train(model=model,\n",
    "      model_name=\"encoder-decoder.pth\",\n",
    "      criterion=criterion,\n",
    "      optimizer=optimizer,\n",
    "      epochs=ModelArgs.epochs,\n",
    "      min_val_loss=1e-3,\n",
    "      train_dataloader=train_dataloader,\n",
    "      val_dataloader=val_dataloader,\n",
    "      device=ModelArgs.device,\n",
    "      patience=2,\n",
    "      lr_scheduler=lr_scheduler)"
   ]
  },
  {
   "cell_type": "code",
   "execution_count": null,
   "id": "bfa1bfd1",
   "metadata": {},
   "outputs": [],
   "source": [
    "import matplotlib"
   ]
  },
  {
   "cell_type": "code",
   "execution_count": null,
   "id": "a7a3c22f",
   "metadata": {},
   "outputs": [],
   "source": []
  },
  {
   "cell_type": "code",
   "execution_count": null,
   "id": "63facd99",
   "metadata": {},
   "outputs": [],
   "source": []
  }
 ],
 "metadata": {
  "kernelspec": {
   "display_name": "Python (stable)",
   "language": "python",
   "name": "stable"
  },
  "language_info": {
   "codemirror_mode": {
    "name": "ipython",
    "version": 3
   },
   "file_extension": ".py",
   "mimetype": "text/x-python",
   "name": "python",
   "nbconvert_exporter": "python",
   "pygments_lexer": "ipython3",
   "version": "3.10.16"
  }
 },
 "nbformat": 4,
 "nbformat_minor": 5
}
